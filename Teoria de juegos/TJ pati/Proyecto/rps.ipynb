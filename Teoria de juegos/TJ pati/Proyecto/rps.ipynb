{
 "cells": [
  {
   "cell_type": "code",
   "execution_count": 14,
   "metadata": {},
   "outputs": [],
   "source": [
    "from random import randrange\n",
    "import pandas as pd\n",
    "import smtplib\n",
    "from email.mime.multipart import MIMEMultipart\n",
    "from email.mime.text import MIMEText\n",
    "from email.mime.base import MIMEBase\n",
    "from email import encoders"
   ]
  },
  {
   "cell_type": "code",
   "execution_count": 5,
   "metadata": {},
   "outputs": [
    {
     "name": "stdout",
     "output_type": "stream",
     "text": [
      "Round 1\n",
      "User win, Rock beats Scissors\n",
      "Round 2\n",
      "Computer win, Paper beats Rock\n",
      "Round 3\n",
      "User win, Rock beats Scissors\n"
     ]
    }
   ],
   "source": [
    "actions = [\"Rock\", \"Paper\", \"Scissors\"]\n",
    "gender = [\"Famale\", \"Male\", \"Other\"]\n",
    "user_name = input(\"Enter your name: \")\n",
    "user_gender = int(input(\"What gender do you identify with? (1, 2, 0r 3): \\n 1. Female \\n 2. Male \\n 1. Other\" )) - 1\n",
    "\n",
    "vec_user_act = []\n",
    "vec_comp_act = []\n",
    "vec_round = []\n",
    "vec_user_util = []\n",
    "vec_comp_util = []\n",
    "\n",
    "user_wins = 0\n",
    "computer_wins = 0\n",
    "cont = 0\n",
    "cont_ = 0\n",
    "\n",
    "ties = 0\n",
    "\n",
    "while ((user_wins != 2) and (computer_wins != 2)):\n",
    "    round = user_wins + computer_wins + 1\n",
    "    vec_round.append(round)\n",
    "    if cont_ == 0:\n",
    "        print(\"Round {}\".format(user_wins + computer_wins + 1))\n",
    "\n",
    "    user_action = int(input(\"Enter a choice (1, 2 or 3) \\n 1. Rock \\n 2. Paper \\n 1. Scissors\")) - 1\n",
    "    vec_user_act.append(actions[user_action])\n",
    "    computer_action = randrange(0, 3)\n",
    "    vec_comp_act.append(actions[computer_action])\n",
    "\n",
    "    if computer_action == user_action:\n",
    "        ties += 1\n",
    "        cont_ += 1 \n",
    "        print(\"Both selected {}\".format(actions[computer_action]))\n",
    "\n",
    "    elif computer_action == 0:\n",
    "        if user_action == 1:\n",
    "            user_wins += 1\n",
    "            vec_user_util.append(1)\n",
    "            vec_comp_util.append(0)\n",
    "            print(\"User win, {} beats {}\".format(actions[user_action], actions[computer_action]))\n",
    "        else:\n",
    "            computer_wins += 1\n",
    "            vec_user_util.append(0)\n",
    "            vec_comp_util.append(1)\n",
    "            print(\"Computer win, {} beats {}\".format(actions[computer_action], actions[user_action]))\n",
    "        cont_ = 0\n",
    "\n",
    "    elif computer_action == 1:\n",
    "        if user_action == 2:\n",
    "            user_wins += 1\n",
    "            vec_user_util.append(1)\n",
    "            vec_comp_util.append(0)\n",
    "            print(\"User win, {} beats {}\".format(actions[user_action], actions[computer_action]))\n",
    "        else:\n",
    "            computer_wins += 1\n",
    "            vec_user_util.append(0)\n",
    "            vec_comp_util.append(1)\n",
    "            print(\"Computer win, {} beats {}\".format(actions[computer_action], actions[user_action]))\n",
    "        cont_ = 0\n",
    "\n",
    "\n",
    "    else:\n",
    "        if user_action == 0:\n",
    "            user_wins += 1\n",
    "            vec_user_util.append(1)\n",
    "            vec_comp_util.append(0)\n",
    "            print(\"User win, {} beats {}\".format(actions[user_action], actions[computer_action]))\n",
    "        else:\n",
    "            computer_wins += 1\n",
    "            vec_user_util.append(0)\n",
    "            vec_comp_util.append(1)\n",
    "            print(\"Computer win, {} beats {}\".format(actions[computer_action], actions[user_action]))\n",
    "        cont_ = 0\n",
    "\n",
    "    cont += 1\n",
    "\n",
    "data = {\"Gender\": [gender[user_gender]]*len(vec_user_act),\n",
    "\"Rounds\": vec_round,\n",
    "\"User actions\": vec_user_act,\n",
    "\"Utility user\": vec_user_util,\n",
    "\"Computer actions\": vec_comp_act,\n",
    "\"Utility computer\": vec_comp_util}\n",
    "df = pd.DataFrame(data)\n",
    "inform = df.to_excel(\"inform_{}.xlsx\".format(user_name))"
   ]
  },
  {
   "cell_type": "code",
   "execution_count": 19,
   "metadata": {},
   "outputs": [
    {
     "ename": "SMTPConnectError",
     "evalue": "(-1, b'\\x02\\x01Z\\x15\\x03\\x03\\x00\\x02\\x01\\x00')",
     "output_type": "error",
     "traceback": [
      "\u001b[0;31m---------------------------------------------------------------------------\u001b[0m",
      "\u001b[0;31mSMTPConnectError\u001b[0m                          Traceback (most recent call last)",
      "\u001b[0;32m/var/folders/2b/f60r175j3t14frh_7_hprgq00000gn/T/ipykernel_10759/102270965.py\u001b[0m in \u001b[0;36m<module>\u001b[0;34m\u001b[0m\n\u001b[1;32m     21\u001b[0m \u001b[0mmessage\u001b[0m\u001b[0;34m.\u001b[0m\u001b[0mattach\u001b[0m\u001b[0;34m(\u001b[0m\u001b[0mpayload\u001b[0m\u001b[0;34m)\u001b[0m\u001b[0;34m\u001b[0m\u001b[0;34m\u001b[0m\u001b[0m\n\u001b[1;32m     22\u001b[0m \u001b[0;31m#Create SMTP session for sending the mail\u001b[0m\u001b[0;34m\u001b[0m\u001b[0;34m\u001b[0m\u001b[0m\n\u001b[0;32m---> 23\u001b[0;31m \u001b[0msession\u001b[0m \u001b[0;34m=\u001b[0m \u001b[0msmtplib\u001b[0m\u001b[0;34m.\u001b[0m\u001b[0mSMTP\u001b[0m\u001b[0;34m(\u001b[0m\u001b[0;34m\"smtp.mail.yahoo.com\"\u001b[0m\u001b[0;34m,\u001b[0m \u001b[0;36m465\u001b[0m\u001b[0;34m)\u001b[0m \u001b[0;31m#use gmail with port\u001b[0m\u001b[0;34m\u001b[0m\u001b[0;34m\u001b[0m\u001b[0m\n\u001b[0m\u001b[1;32m     24\u001b[0m \u001b[0msession\u001b[0m\u001b[0;34m.\u001b[0m\u001b[0mstarttls\u001b[0m\u001b[0;34m(\u001b[0m\u001b[0;34m)\u001b[0m \u001b[0;31m#enable security\u001b[0m\u001b[0;34m\u001b[0m\u001b[0;34m\u001b[0m\u001b[0m\n\u001b[1;32m     25\u001b[0m \u001b[0msession\u001b[0m\u001b[0;34m.\u001b[0m\u001b[0mlogin\u001b[0m\u001b[0;34m(\u001b[0m\u001b[0msender_address\u001b[0m\u001b[0;34m,\u001b[0m \u001b[0msender_pass\u001b[0m\u001b[0;34m)\u001b[0m \u001b[0;31m#login with mail_id and password\u001b[0m\u001b[0;34m\u001b[0m\u001b[0;34m\u001b[0m\u001b[0m\n",
      "\u001b[0;32m~/opt/anaconda3/lib/python3.9/smtplib.py\u001b[0m in \u001b[0;36m__init__\u001b[0;34m(self, host, port, local_hostname, timeout, source_address)\u001b[0m\n\u001b[1;32m    256\u001b[0m             \u001b[0;32mif\u001b[0m \u001b[0mcode\u001b[0m \u001b[0;34m!=\u001b[0m \u001b[0;36m220\u001b[0m\u001b[0;34m:\u001b[0m\u001b[0;34m\u001b[0m\u001b[0;34m\u001b[0m\u001b[0m\n\u001b[1;32m    257\u001b[0m                 \u001b[0mself\u001b[0m\u001b[0;34m.\u001b[0m\u001b[0mclose\u001b[0m\u001b[0;34m(\u001b[0m\u001b[0;34m)\u001b[0m\u001b[0;34m\u001b[0m\u001b[0;34m\u001b[0m\u001b[0m\n\u001b[0;32m--> 258\u001b[0;31m                 \u001b[0;32mraise\u001b[0m \u001b[0mSMTPConnectError\u001b[0m\u001b[0;34m(\u001b[0m\u001b[0mcode\u001b[0m\u001b[0;34m,\u001b[0m \u001b[0mmsg\u001b[0m\u001b[0;34m)\u001b[0m\u001b[0;34m\u001b[0m\u001b[0;34m\u001b[0m\u001b[0m\n\u001b[0m\u001b[1;32m    259\u001b[0m         \u001b[0;32mif\u001b[0m \u001b[0mlocal_hostname\u001b[0m \u001b[0;32mis\u001b[0m \u001b[0;32mnot\u001b[0m \u001b[0;32mNone\u001b[0m\u001b[0;34m:\u001b[0m\u001b[0;34m\u001b[0m\u001b[0;34m\u001b[0m\u001b[0m\n\u001b[1;32m    260\u001b[0m             \u001b[0mself\u001b[0m\u001b[0;34m.\u001b[0m\u001b[0mlocal_hostname\u001b[0m \u001b[0;34m=\u001b[0m \u001b[0mlocal_hostname\u001b[0m\u001b[0;34m\u001b[0m\u001b[0;34m\u001b[0m\u001b[0m\n",
      "\u001b[0;31mSMTPConnectError\u001b[0m: (-1, b'\\x02\\x01Z\\x15\\x03\\x03\\x00\\x02\\x01\\x00')"
     ]
    }
   ],
   "source": [
    "mail_content = \"\"\n",
    "#The mail addresses and password\n",
    "sender_address = 'teoriadejuegos@yahoo.com'\n",
    "sender_pass = 'Miguel@123'\n",
    "receiver_address = 'andres20010511@gmail.com'\n",
    "#Setup the MIME\n",
    "message = MIMEMultipart()\n",
    "message['From'] = sender_address\n",
    "message['To'] = receiver_address\n",
    "message['Subject'] = 'informe piedra, papel o tijera'\n",
    "#The subject line\n",
    "#The body and the attachments for the mail\n",
    "message.attach(MIMEText(mail_content, 'plain'))\n",
    "attach_file_name = \"inform_{}.xlsx\".format(user_name)\n",
    "attach_file = open(attach_file_name, 'rb') # Open the file as binary mode\n",
    "payload = MIMEBase('application', 'octate-stream')\n",
    "payload.set_payload((attach_file).read())\n",
    "encoders.encode_base64(payload) #encode the attachment\n",
    "#add payload header with filename\n",
    "payload.add_header('Content-Decomposition', 'attachment', filename=attach_file_name)\n",
    "message.attach(payload)\n",
    "#Create SMTP session for sending the mail\n",
    "session = smtplib.SMTP(\"smtp.mail.yahoo.com\", 465) #use gmail with port\n",
    "session.starttls() #enable security\n",
    "session.login(sender_address, sender_pass) #login with mail_id and password\n",
    "text = message.as_string()\n",
    "session.sendmail(sender_address, receiver_address, text)\n",
    "session.quit()\n",
    "print('Mail Sent')"
   ]
  }
 ],
 "metadata": {
  "kernelspec": {
   "display_name": "Python 3.9.7 ('base')",
   "language": "python",
   "name": "python3"
  },
  "language_info": {
   "codemirror_mode": {
    "name": "ipython",
    "version": 3
   },
   "file_extension": ".py",
   "mimetype": "text/x-python",
   "name": "python",
   "nbconvert_exporter": "python",
   "pygments_lexer": "ipython3",
   "version": "3.9.7"
  },
  "orig_nbformat": 4,
  "vscode": {
   "interpreter": {
    "hash": "cf60ecfdd41a9701ef99bc7e3b457da2f8b734dfb9ec15cbb4d8eeef9586371a"
   }
  }
 },
 "nbformat": 4,
 "nbformat_minor": 2
}
