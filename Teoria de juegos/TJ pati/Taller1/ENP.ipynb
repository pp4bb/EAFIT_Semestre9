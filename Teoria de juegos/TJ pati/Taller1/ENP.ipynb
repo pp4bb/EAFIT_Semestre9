{
 "cells": [
  {
   "cell_type": "code",
   "execution_count": 54,
   "metadata": {},
   "outputs": [],
   "source": [
    "### Definir el juego en forma normal:\n",
    "\n",
    "# Jugadores\n",
    "N = [\"Jugador 1\", \"Jugador 2\", \"Jugador 3\"]\n",
    "# Acciones para cada jugador\n",
    "A_123 = [\"A\", \"B\"]\n",
    "# Acciones conjuntas\n",
    "A = [(i, j, k) for i in A_123 for j in A_123 for k in A_123]"
   ]
  },
  {
   "cell_type": "code",
   "execution_count": 55,
   "metadata": {},
   "outputs": [],
   "source": [
    "### Función de pagos\n",
    "\"\"\"\n",
    "Recibe las acciones conjuntas y establece el pago para cada caso\n",
    "(A_1, A_2, A_3) = (U_1, U_2, U_3)\n",
    "\"\"\"\n",
    "def pagos(conjuntas):\n",
    "    dic_pagos = {}\n",
    "    for i in conjuntas:\n",
    "        countA = 0\n",
    "        for j in i:\n",
    "            if j == \"A\":\n",
    "                countA += 1\n",
    "        if countA > 1:\n",
    "            dic_pagos[i] = (2, -2, 2)\n",
    "        else:\n",
    "            dic_pagos[i] = (-2, 2, -2)\n",
    "    return dic_pagos"
   ]
  },
  {
   "cell_type": "code",
   "execution_count": 56,
   "metadata": {},
   "outputs": [],
   "source": [
    "def equilibrio_Nash (conjuntas, dic_pagos):\n",
    "    dic_ENP = {}\n",
    "    for acc in conjuntas:\n",
    "        i, j, k  = acc\n",
    "        if i == j and j == k: # Si las tres son iguales por mas que cambie uno, los pagos no cambian\n",
    "            dic_ENP[acc] = 1\n",
    "        else:\n",
    "            aux = []\n",
    "            if i == \"A\":\n",
    "                aux.append((\"B\", j, k))\n",
    "            else:\n",
    "                aux.append((\"A\", j, k))\n",
    "            if j == \"A\":\n",
    "                aux.append((i, \"B\", k))\n",
    "            else:\n",
    "                aux.append((i, \"A\", k))\n",
    "            if k == \"A\":\n",
    "                aux.append((i, j, \"B\"))\n",
    "            else:\n",
    "                aux.append((i, j, \"A\"))\n",
    "            \n",
    "            if dic_pagos[acc][0] >= dic_pagos[aux[0]][0] and dic_pagos[acc][1] >= dic_pagos[aux[1]][1] and dic_pagos[acc][2] >= dic_pagos[aux[2]][2]:\n",
    "                dic_ENP[acc] = 1\n",
    "            else:\n",
    "                dic_ENP[acc] = 0\n",
    "    return dic_ENP"
   ]
  },
  {
   "cell_type": "code",
   "execution_count": null,
   "metadata": {},
   "outputs": [],
   "source": [
    "def mejor_respuesta(jugadores, acciones, dic_pagos):\n",
    "    dic_mej_rep = {}\n",
    "    opc = [(i, j) for i in acciones for j in acciones]\n",
    "    for i in range(3):\n",
    "        \n",
    "    return dic_mej_rep"
   ]
  },
  {
   "cell_type": "code",
   "execution_count": 57,
   "metadata": {},
   "outputs": [
    {
     "data": {
      "text/plain": [
       "{('A', 'A', 'A'): 1,\n",
       " ('A', 'A', 'B'): 0,\n",
       " ('A', 'B', 'A'): 1,\n",
       " ('A', 'B', 'B'): 0,\n",
       " ('B', 'A', 'A'): 0,\n",
       " ('B', 'A', 'B'): 0,\n",
       " ('B', 'B', 'A'): 0,\n",
       " ('B', 'B', 'B'): 1}"
      ]
     },
     "execution_count": 57,
     "metadata": {},
     "output_type": "execute_result"
    }
   ],
   "source": [
    "equilibrio_Nash(A, pagos(A))"
   ]
  }
 ],
 "metadata": {
  "kernelspec": {
   "display_name": "Python 3.9.7 ('base')",
   "language": "python",
   "name": "python3"
  },
  "language_info": {
   "codemirror_mode": {
    "name": "ipython",
    "version": 3
   },
   "file_extension": ".py",
   "mimetype": "text/x-python",
   "name": "python",
   "nbconvert_exporter": "python",
   "pygments_lexer": "ipython3",
   "version": "3.9.7"
  },
  "orig_nbformat": 4,
  "vscode": {
   "interpreter": {
    "hash": "cf60ecfdd41a9701ef99bc7e3b457da2f8b734dfb9ec15cbb4d8eeef9586371a"
   }
  }
 },
 "nbformat": 4,
 "nbformat_minor": 2
}
