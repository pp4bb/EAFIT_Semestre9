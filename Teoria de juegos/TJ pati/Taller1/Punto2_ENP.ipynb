{
 "cells": [
  {
   "cell_type": "code",
   "execution_count": 4,
   "metadata": {},
   "outputs": [],
   "source": [
    "import copy"
   ]
  },
  {
   "cell_type": "markdown",
   "metadata": {},
   "source": [
    "### I. Juego en forma normal:\n",
    "- **Jugadores:** $N = \\{Jugador 1, Jugador 2\\}$\n",
    "- **Acciones:** $A_{Jugador 1} = \\{Oferta alta,Oferta baja\\}\\\\\n",
    "               A_{Jugador 2} = \\{Aceptar oferta, Rechazar oferta\\}$\n",
    "- **Acciones conjuntass:** $A=\\{(Oferta alta,Aceptar oferta);(Oferta alta,Rechazar oferta);\\\\(Oferta baja,Aceptar oferta);(Oferta baja,Rechazar oferta)\\}$"
   ]
  },
  {
   "cell_type": "code",
   "execution_count": 3,
   "metadata": {},
   "outputs": [],
   "source": [
    "### Definir el juego en forma normal:\n",
    "\n",
    "# Jugadores\n",
    "N = [\"Jugador 1\", \"Jugador 2\"]\n",
    "# Acciones para cada jugador\n",
    "A_1 = [\"Oferta alta\", \"Oferta baja\"]\n",
    "A_2 = [\"Aceptar oferta\", \"Rechazar oferta\"]\n",
    "# Acciones conjuntas\n",
    "A = [[i, j] for i in A_1 for j in A_2]"
   ]
  },
  {
   "cell_type": "code",
   "execution_count": 2,
   "metadata": {},
   "outputs": [],
   "source": [
    "### Función de pagos\n",
    "\"\"\"\n",
    "Recibe las acciones conjuntas y establece el pago para cada caso\n",
    "(A_1, A_2): (U_1, U_2)\n",
    "\"\"\"\n",
    "def pagos(conjuntas):\n",
    "    dic_pagos = {}\n",
    "    pagos_dados = [[2, 2], [2, 2], [3, 1], [0, 0]]\n",
    "    for i in range(len(conjuntas)):\n",
    "        dic_pagos[tuple(conjuntas[i])] = pagos_dados[i]\n",
    "    return dic_pagos"
   ]
  },
  {
   "cell_type": "markdown",
   "metadata": {},
   "source": [
    "**Pagos para cada jugador de cada estrategia conjunta**"
   ]
  },
  {
   "cell_type": "code",
   "execution_count": 4,
   "metadata": {},
   "outputs": [
    {
     "data": {
      "text/plain": [
       "{('Oferta alta', 'Aceptar oferta'): [2, 2],\n",
       " ('Oferta alta', 'Rechazar oferta'): [2, 2],\n",
       " ('Oferta baja', 'Aceptar oferta'): [3, 1],\n",
       " ('Oferta baja', 'Rechazar oferta'): [0, 0]}"
      ]
     },
     "execution_count": 4,
     "metadata": {},
     "output_type": "execute_result"
    }
   ],
   "source": [
    "dic_pagos = pagos(A)\n",
    "dic_pagos"
   ]
  },
  {
   "cell_type": "code",
   "execution_count": 10,
   "metadata": {},
   "outputs": [],
   "source": [
    "def equilibrio_Nash (acc_1, acc_2, conjuntas, dic_pagos):\n",
    "    dic_ENP = {}\n",
    "    for acc in conjuntas:\n",
    "        i, j  = acc\n",
    "        aux = []\n",
    "        if i == acc_1[0]:\n",
    "            aux.append([acc_1[1], j])\n",
    "        else:\n",
    "            aux.append([acc_1[0], j])\n",
    "        if j == acc_2[0]:\n",
    "            aux.append([i, acc_2[1]])\n",
    "        else:\n",
    "            aux.append([i, acc_2[0]])\n",
    "        \n",
    "        if dic_pagos[tuple(acc)][0] >= dic_pagos[tuple(aux[0])][0] and dic_pagos[tuple(acc)][1] >= dic_pagos[tuple(aux[1])][1]:\n",
    "            dic_ENP[tuple(acc)] = 1\n",
    "        else:\n",
    "            dic_ENP[tuple(acc)] = 0\n",
    "    return dic_ENP"
   ]
  },
  {
   "cell_type": "code",
   "execution_count": 14,
   "metadata": {},
   "outputs": [],
   "source": [
    "def mejores_respuestas(jugadores, acciones_1, acciones_2, conjuntas, dic_pagos):\n",
    "    acciones = [acciones_1, acciones_2]\n",
    "    dic_mejores_resp = {}\n",
    "\n",
    "    for i in range(len(jugadores)):\n",
    "        dic_mejores_resp[jugadores[i]] = {}\n",
    "        for j in acciones[i]:\n",
    "            aux1 = [j]\n",
    "            aux2 = [j]\n",
    "            if i == 0:\n",
    "                aux1.insert(1, acciones[1][0])\n",
    "                aux2.insert(1, acciones[1][1])\n",
    "\n",
    "                aux3 = dic_pagos[tuple(aux1)]\n",
    "                aux4 = dic_pagos[tuple(aux2)]\n",
    "                if aux3 == aux4:\n",
    "                    dic_mejores_resp[jugadores[i]][j] = [acciones[1][0], acciones[1][1]] \n",
    "                elif  aux3 > aux4:\n",
    "                    dic_mejores_resp[jugadores[i]][j] = acciones[1][0]\n",
    "                else:\n",
    "                    dic_mejores_resp[jugadores[i]][j] = acciones[1][1]\n",
    "            else:\n",
    "                aux1.insert(0, acciones[0][0])\n",
    "                aux2.insert(0, acciones[0][1])\n",
    "\n",
    "                aux3 = dic_pagos[tuple(aux1)]\n",
    "                aux4 = dic_pagos[tuple(aux2)]\n",
    "                if aux3 == aux4:\n",
    "                    dic_mejores_resp[jugadores[i]][j] = [acciones[0][0], acciones[i][1]] \n",
    "                elif  aux3 > aux4:\n",
    "                    dic_mejores_resp[jugadores[i]][j] = acciones[0][0]\n",
    "                else:\n",
    "                    dic_mejores_resp[jugadores[i]][j] = acciones[0][1]\n",
    "\n",
    "    return dic_mejores_resp"
   ]
  },
  {
   "cell_type": "markdown",
   "metadata": {},
   "source": [
    "### II. Mejores respuestas"
   ]
  },
  {
   "cell_type": "code",
   "execution_count": 15,
   "metadata": {},
   "outputs": [
    {
     "data": {
      "text/plain": [
       "{'Jugador 1': {'Oferta alta': ['Aceptar oferta', 'Rechazar oferta'],\n",
       "  'Oferta baja': 'Aceptar oferta'},\n",
       " 'Jugador 2': {'Aceptar oferta': 'Oferta baja',\n",
       "  'Rechazar oferta': 'Oferta alta'}}"
      ]
     },
     "execution_count": 15,
     "metadata": {},
     "output_type": "execute_result"
    }
   ],
   "source": [
    "mejores_respuestas(N, A_1, A_2, A, pagos(A))"
   ]
  },
  {
   "cell_type": "markdown",
   "metadata": {},
   "source": [
    "### III. Equilibrio de Nash en estrategias puras"
   ]
  },
  {
   "cell_type": "code",
   "execution_count": 11,
   "metadata": {},
   "outputs": [
    {
     "data": {
      "text/plain": [
       "{('Oferta alta', 'Aceptar oferta'): 0,\n",
       " ('Oferta alta', 'Rechazar oferta'): 1,\n",
       " ('Oferta baja', 'Aceptar oferta'): 1,\n",
       " ('Oferta baja', 'Rechazar oferta'): 0}"
      ]
     },
     "execution_count": 11,
     "metadata": {},
     "output_type": "execute_result"
    }
   ],
   "source": [
    "equilibrio_Nash(A_1, A_2, A, pagos(A))"
   ]
  }
 ],
 "metadata": {
  "kernelspec": {
   "display_name": "Python 3.9.7 ('base')",
   "language": "python",
   "name": "python3"
  },
  "language_info": {
   "codemirror_mode": {
    "name": "ipython",
    "version": 3
   },
   "file_extension": ".py",
   "mimetype": "text/x-python",
   "name": "python",
   "nbconvert_exporter": "python",
   "pygments_lexer": "ipython3",
   "version": "3.9.7"
  },
  "orig_nbformat": 4,
  "vscode": {
   "interpreter": {
    "hash": "cf60ecfdd41a9701ef99bc7e3b457da2f8b734dfb9ec15cbb4d8eeef9586371a"
   }
  }
 },
 "nbformat": 4,
 "nbformat_minor": 2
}
