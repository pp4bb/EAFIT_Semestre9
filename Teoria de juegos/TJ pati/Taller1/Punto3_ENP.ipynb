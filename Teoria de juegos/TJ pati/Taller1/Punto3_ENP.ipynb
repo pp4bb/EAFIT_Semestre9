{
 "cells": [
  {
   "cell_type": "code",
   "execution_count": 2,
   "metadata": {},
   "outputs": [],
   "source": [
    "import copy"
   ]
  },
  {
   "cell_type": "code",
   "execution_count": 3,
   "metadata": {},
   "outputs": [],
   "source": [
    "### Definir el juego en forma normal:\n",
    "\n",
    "# Jugadores\n",
    "N = [\"Banco A\", \"Banco B\"]\n",
    "# Acciones para cada jugador\n",
    "A_12 = [0, 1, 2]\n",
    "# Acciones conjuntas\n",
    "A = [[i, j] for i in A_12 for j in A_12]"
   ]
  },
  {
   "cell_type": "code",
   "execution_count": 4,
   "metadata": {},
   "outputs": [],
   "source": [
    "### Función de pagos\n",
    "\"\"\"\n",
    "Recibe las acciones conjuntas y establece el pago para cada caso\n",
    "(A_1, A_2): (U_1, U_2)\n",
    "\"\"\"\n",
    "def pagos(conjuntas):\n",
    "    dic_pagos = {}\n",
    "    for i in conjuntas:\n",
    "        j, k = i\n",
    "        if j == k:\n",
    "            dic_pagos[tuple(i)] = (-1*j, -1*k)\n",
    "        elif j > k:\n",
    "            dic_pagos[tuple(i)] = (-1*(k) + 2*(j-k), -1*k)\n",
    "        else:\n",
    "            dic_pagos[tuple(i)] = (-1*j, -1*(j) + 2*(k-j))\n",
    "    return dic_pagos"
   ]
  },
  {
   "cell_type": "code",
   "execution_count": 5,
   "metadata": {},
   "outputs": [],
   "source": [
    "def equilibrio_Nash (acciones, conjuntas, dic_pagos):\n",
    "    dic_ENP = {}\n",
    "    for acc in conjuntas:\n",
    "        i, j  = acc\n",
    "        aux = []\n",
    "        for l in acciones:\n",
    "            aux.append((l, j))\n",
    "            aux.append((i, l))\n",
    "        \n",
    "        for i in aux:\n",
    "            if ((dic_pagos[tuple(acc)][0] >= dic_pagos[tuple(aux[0])][0] and dic_pagos[tuple(acc)][0] >= dic_pagos[tuple(aux[2])][0] and dic_pagos[tuple(acc)][0] >= dic_pagos[tuple(aux[4])][0])\n",
    "            and (dic_pagos[tuple(acc)][1] >= dic_pagos[tuple(aux[1])][1] and dic_pagos[tuple(acc)][1] >= dic_pagos[tuple(aux[3])][1] and dic_pagos[tuple(acc)][1] >= dic_pagos[tuple(aux[5])][1])):\n",
    "                dic_ENP[tuple(acc)] = 1\n",
    "            else:\n",
    "                dic_ENP[tuple(acc)] = 0\n",
    "    return dic_ENP"
   ]
  },
  {
   "cell_type": "code",
   "execution_count": 33,
   "metadata": {},
   "outputs": [],
   "source": [
    "def mejores_respuestas(jugadores, acciones, conjuntas, dic_pagos):\n",
    "    dic_mejores_resp = {}\n",
    "\n",
    "    for i in range(len(jugadores)):\n",
    "        dic_mejores_resp[jugadores[i]] = {}\n",
    "        for j in acciones:\n",
    "            vec_aux = []\n",
    "            vec_aux_pagos = []\n",
    "            for k in range(len(acciones)):\n",
    "                aux = [j]\n",
    "                aux.insert(i, acciones[k])\n",
    "                \n",
    "                vec_aux.append(aux)\n",
    "                vec_aux_pagos.append(dic_pagos[tuple(aux)])\n",
    "\n",
    "            max_pag = max(vec_aux_pagos, key=lambda x:x[i])\n",
    "            indices = [l for l in range(len(vec_aux_pagos)) if vec_aux_pagos[l] == max_pag]\n",
    "            dic_mejores_resp[jugadores[i]][j] = [vec_aux[l][i] for l in indices] \n",
    "\n",
    "    return dic_mejores_resp"
   ]
  },
  {
   "cell_type": "code",
   "execution_count": 7,
   "metadata": {},
   "outputs": [
    {
     "data": {
      "text/plain": [
       "{(0, 0): 0,\n",
       " (0, 1): 0,\n",
       " (0, 2): 1,\n",
       " (1, 0): 0,\n",
       " (1, 1): 0,\n",
       " (1, 2): 0,\n",
       " (2, 0): 1,\n",
       " (2, 1): 0,\n",
       " (2, 2): 0}"
      ]
     },
     "execution_count": 7,
     "metadata": {},
     "output_type": "execute_result"
    }
   ],
   "source": [
    "equilibrio_Nash(A_12, A, pagos(A))"
   ]
  },
  {
   "cell_type": "code",
   "execution_count": 34,
   "metadata": {},
   "outputs": [
    {
     "data": {
      "text/plain": [
       "{'Banco A': {0: [2], 1: [2], 2: [0]}, 'Banco B': {0: [2], 1: [2], 2: [0]}}"
      ]
     },
     "execution_count": 34,
     "metadata": {},
     "output_type": "execute_result"
    }
   ],
   "source": [
    "mejores_respuestas(N, A_12, A, pagos(A))"
   ]
  }
 ],
 "metadata": {
  "kernelspec": {
   "display_name": "Python 3.9.7 ('base')",
   "language": "python",
   "name": "python3"
  },
  "language_info": {
   "codemirror_mode": {
    "name": "ipython",
    "version": 3
   },
   "file_extension": ".py",
   "mimetype": "text/x-python",
   "name": "python",
   "nbconvert_exporter": "python",
   "pygments_lexer": "ipython3",
   "version": "3.9.7"
  },
  "orig_nbformat": 4,
  "vscode": {
   "interpreter": {
    "hash": "cf60ecfdd41a9701ef99bc7e3b457da2f8b734dfb9ec15cbb4d8eeef9586371a"
   }
  }
 },
 "nbformat": 4,
 "nbformat_minor": 2
}
