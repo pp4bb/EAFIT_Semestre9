{
 "cells": [
  {
   "cell_type": "code",
   "execution_count": 7,
   "metadata": {},
   "outputs": [],
   "source": [
    "import copy"
   ]
  },
  {
   "cell_type": "markdown",
   "metadata": {},
   "source": [
    "### I. Juego en forma normal:\n",
    "- **Jugadores:** $N = \\{Jugador 1, Jugador 2, Jugador 3\\}$\n",
    "- **Acciones:** $A_{Jugador 1} = A_{Jugador 2} = A_{Jugador 3} = \\{A, B\\}$\n",
    "- **Acciones conjuntass:** $A=\\{(A,A,A);(B,A,A);(A,B,A);\\\\(A,A,B); (A,B,B);(B,A,B);\\\\(B,B,A);(B,B,B)\\}$"
   ]
  },
  {
   "cell_type": "code",
   "execution_count": 8,
   "metadata": {},
   "outputs": [],
   "source": [
    "### Definir el juego en forma normal:\n",
    "\n",
    "# Jugadores\n",
    "N = [\"Jugador 1\", \"Jugador 2\", \"Jugador 3\"]\n",
    "# Acciones para cada jugador\n",
    "A_123 = [\"A\", \"B\"]\n",
    "# Acciones conjuntas\n",
    "A = [[i, j, k] for i in A_123 for j in A_123 for k in A_123]"
   ]
  },
  {
   "cell_type": "code",
   "execution_count": 9,
   "metadata": {},
   "outputs": [],
   "source": [
    "### Función de pagos\n",
    "\"\"\"\n",
    "Recibe las acciones conjuntas y establece el pago para cada caso\n",
    "(A_1, A_2, A_3): (U_1, U_2, U_3)\n",
    "\"\"\"\n",
    "def pagos(conjuntas):\n",
    "    dic_pagos = {}\n",
    "    for i in conjuntas:\n",
    "        countA = 0\n",
    "        for j in i:\n",
    "            if j == \"A\":\n",
    "                countA += 1\n",
    "        if countA > 1:\n",
    "            dic_pagos[tuple(i)] = [2, -2, 2]\n",
    "        else:\n",
    "            dic_pagos[tuple(i)] = [-2, 2, -2]\n",
    "    return dic_pagos"
   ]
  },
  {
   "cell_type": "markdown",
   "metadata": {},
   "source": [
    "**Pagos para cada jugador de cada estrategia conjunta**"
   ]
  },
  {
   "cell_type": "code",
   "execution_count": 10,
   "metadata": {},
   "outputs": [
    {
     "data": {
      "text/plain": [
       "{('A', 'A', 'A'): [2, -2, 2],\n",
       " ('A', 'A', 'B'): [2, -2, 2],\n",
       " ('A', 'B', 'A'): [2, -2, 2],\n",
       " ('A', 'B', 'B'): [-2, 2, -2],\n",
       " ('B', 'A', 'A'): [2, -2, 2],\n",
       " ('B', 'A', 'B'): [-2, 2, -2],\n",
       " ('B', 'B', 'A'): [-2, 2, -2],\n",
       " ('B', 'B', 'B'): [-2, 2, -2]}"
      ]
     },
     "execution_count": 10,
     "metadata": {},
     "output_type": "execute_result"
    }
   ],
   "source": [
    "dic_pagos = pagos(A)\n",
    "dic_pagos"
   ]
  },
  {
   "cell_type": "code",
   "execution_count": 11,
   "metadata": {},
   "outputs": [],
   "source": [
    "def equilibrio_Nash (conjuntas, dic_pagos):\n",
    "    dic_ENP = {}\n",
    "    for acc in conjuntas:\n",
    "        i, j, k  = acc\n",
    "        if i == j and j == k: # Si las tres son iguales por mas que cambie uno, los pagos no cambian\n",
    "            dic_ENP[tuple(acc)] = 1\n",
    "        else:\n",
    "            aux = []\n",
    "            if i == \"A\":\n",
    "                aux.append([\"B\", j, k])\n",
    "            else:\n",
    "                aux.append([\"A\", j, k])\n",
    "            if j == \"A\":\n",
    "                aux.append([i, \"B\", k])\n",
    "            else:\n",
    "                aux.append([i, \"A\", k])\n",
    "            if k == \"A\":\n",
    "                aux.append([i, j, \"B\"])\n",
    "            else:\n",
    "                aux.append([i, j, \"A\"])\n",
    "            \n",
    "            if dic_pagos[tuple(acc)][0] >= dic_pagos[tuple(aux[0])][0] and dic_pagos[tuple(acc)][1] >= dic_pagos[tuple(aux[1])][1] and dic_pagos[tuple(acc)][2] >= dic_pagos[tuple(aux[2])][2]:\n",
    "                dic_ENP[tuple(acc)] = 1\n",
    "            else:\n",
    "                dic_ENP[tuple(acc)] = 0\n",
    "    return dic_ENP"
   ]
  },
  {
   "cell_type": "code",
   "execution_count": 12,
   "metadata": {},
   "outputs": [],
   "source": [
    "def mejores_respuestas(jugadores, acciones, conjuntas, dic_pagos):\n",
    "    evaluar = [[i, j] for i in acciones for j in acciones]\n",
    "    dic_mejores_resp = {}\n",
    "\n",
    "    for i in range(len(jugadores)):\n",
    "        dic_mejores_resp[jugadores[i]] = {}\n",
    "        for j in evaluar:\n",
    "            aux1 = copy.copy(j)\n",
    "            aux2 = copy.copy(j)\n",
    "            aux1.insert(i, acciones[0])\n",
    "            aux2.insert(i, acciones[1])\n",
    "\n",
    "            aux3 = dic_pagos[tuple(aux1)][i]\n",
    "            aux4 = dic_pagos[tuple(aux2)][i]\n",
    "            if aux3 == aux4:\n",
    "                dic_mejores_resp[jugadores[i]][tuple(j)] = [acciones[0], acciones[1]] \n",
    "            elif  aux3 > aux4:\n",
    "                dic_mejores_resp[jugadores[i]][tuple(j)] = acciones[0]\n",
    "            else:\n",
    "                dic_mejores_resp[jugadores[i]][tuple(j)] = acciones[1]\n",
    "\n",
    "    return dic_mejores_resp"
   ]
  },
  {
   "cell_type": "markdown",
   "metadata": {},
   "source": [
    "### IV. Equilibrio de nash en estrategias puras"
   ]
  },
  {
   "cell_type": "code",
   "execution_count": 13,
   "metadata": {},
   "outputs": [
    {
     "data": {
      "text/plain": [
       "{('A', 'A', 'A'): 1,\n",
       " ('A', 'A', 'B'): 0,\n",
       " ('A', 'B', 'A'): 1,\n",
       " ('A', 'B', 'B'): 0,\n",
       " ('B', 'A', 'A'): 0,\n",
       " ('B', 'A', 'B'): 0,\n",
       " ('B', 'B', 'A'): 0,\n",
       " ('B', 'B', 'B'): 1}"
      ]
     },
     "execution_count": 13,
     "metadata": {},
     "output_type": "execute_result"
    }
   ],
   "source": [
    "equilibrio_Nash(A, dic_pagos)"
   ]
  },
  {
   "cell_type": "markdown",
   "metadata": {},
   "source": [
    "### V. Mejores respuestas"
   ]
  },
  {
   "cell_type": "code",
   "execution_count": 14,
   "metadata": {},
   "outputs": [
    {
     "data": {
      "text/plain": [
       "{'Jugador 1': {('A', 'A'): ['A', 'B'],\n",
       "  ('A', 'B'): 'A',\n",
       "  ('B', 'A'): 'A',\n",
       "  ('B', 'B'): ['A', 'B']},\n",
       " 'Jugador 2': {('A', 'A'): ['A', 'B'],\n",
       "  ('A', 'B'): 'B',\n",
       "  ('B', 'A'): 'B',\n",
       "  ('B', 'B'): ['A', 'B']},\n",
       " 'Jugador 3': {('A', 'A'): ['A', 'B'],\n",
       "  ('A', 'B'): 'A',\n",
       "  ('B', 'A'): 'A',\n",
       "  ('B', 'B'): ['A', 'B']}}"
      ]
     },
     "execution_count": 14,
     "metadata": {},
     "output_type": "execute_result"
    }
   ],
   "source": [
    "mejores_respuestas(N, A_123, A, dic_pagos)"
   ]
  }
 ],
 "metadata": {
  "kernelspec": {
   "display_name": "Python 3.9.7 ('base')",
   "language": "python",
   "name": "python3"
  },
  "language_info": {
   "codemirror_mode": {
    "name": "ipython",
    "version": 3
   },
   "file_extension": ".py",
   "mimetype": "text/x-python",
   "name": "python",
   "nbconvert_exporter": "python",
   "pygments_lexer": "ipython3",
   "version": "3.9.7"
  },
  "orig_nbformat": 4,
  "vscode": {
   "interpreter": {
    "hash": "cf60ecfdd41a9701ef99bc7e3b457da2f8b734dfb9ec15cbb4d8eeef9586371a"
   }
  }
 },
 "nbformat": 4,
 "nbformat_minor": 2
}
