{
 "cells": [
  {
   "attachments": {},
   "cell_type": "markdown",
   "metadata": {},
   "source": [
    "## Último punto del taller 2\n",
    "### Tomás Urrego, Adrián Guerrero, Pablo Buitrago\n"
   ]
  },
  {
   "attachments": {},
   "cell_type": "markdown",
   "metadata": {},
   "source": [
    "    El código funciona con Julia, puede instalarse facilmente siguiendo los pasos\n",
    "    encontrados en https://julialang.org/downloads/. Puede o correr el\n",
    "    archivo `julia ultimo_punto_script.jl` o instalar el kernel de julia para Jupyter y \n",
    "    usar el notebook, lo cual se hace de la siguiente forma:\n",
    "\n",
    "    * Abrir julia en la terminal: `julia`\n",
    "    * escribir el siguiente comando para usar el gestor de paquetes: `import Pkg`\n",
    "    * Agregar el kernel de julia para Jupyter: `Pkg.add(\"IJulia\")`\n",
    "\n",
    "    Bastaria entonces correr las celdas del notebook."
   ]
  },
  {
   "cell_type": "code",
   "execution_count": 57,
   "metadata": {},
   "outputs": [
    {
     "name": "stderr",
     "output_type": "stream",
     "text": [
      "\u001b[32m\u001b[1m   Resolving\u001b[22m\u001b[39m package versions...\n"
     ]
    },
    {
     "name": "stderr",
     "output_type": "stream",
     "text": [
      "\u001b[32m\u001b[1m  No Changes\u001b[22m\u001b[39m to `~/.julia/environments/v1.8/Project.toml`\n",
      "\u001b[32m\u001b[1m  No Changes\u001b[22m\u001b[39m to `~/.julia/environments/v1.8/Manifest.toml`\n"
     ]
    }
   ],
   "source": [
    "import Pkg\n",
    "Pkg.add(\"PlotlyJS\")\n",
    "using PlotlyJS"
   ]
  },
  {
   "cell_type": "code",
   "execution_count": 58,
   "metadata": {},
   "outputs": [
    {
     "data": {
      "text/plain": [
       "4×2×2 Array{Float64, 3}:\n",
       "[:, :, 1] =\n",
       "  2.0          -1.0\n",
       "  1.0          -0.666667\n",
       "  1.11022e-16  -1.33333\n",
       " -1.0          -1.0\n",
       "\n",
       "[:, :, 2] =\n",
       " -0.333333  2.0\n",
       "  1.0       0.666667\n",
       " -1.33333   1.33333\n",
       "  0.0       0.0"
      ]
     },
     "metadata": {},
     "output_type": "display_data"
    }
   ],
   "source": [
    "\"\"\"\n",
    "Function that calculates the utility matrix given the probability of bankruptcy.\n",
    "\n",
    "Parameters\n",
    "----------\n",
    "alpha : Float64\n",
    "    The probability that the airline goes bankrupt.\n",
    "\n",
    "Returns\n",
    "-------\n",
    "Array\n",
    "    A 4x2x2 array with the values of the utility matrix.\n",
    "\"\"\"\n",
    "function calculate_matrix(alpha::Float64)::Array\n",
    "    my_matrix = zeros(4,2,2)\n",
    "    #--------------- (S,S) -----------------\n",
    "    # U_a((S,S),a)\n",
    "    my_matrix[1,1,1] = alpha*4 + (1-alpha)*1\n",
    "    # U_a((S,S),r)\n",
    "    my_matrix[1,2,1] = alpha*(-1) + (1-alpha)*(-1)\n",
    "    # U_b((S,S),a)\n",
    "    my_matrix[1,1,2] = alpha*3 + (1-alpha)*(-2)\n",
    "    # U_b((S,S),r)\n",
    "    my_matrix[1,2,2] = alpha*2 + (1-alpha)*2\n",
    "    #--------------- (S,N) -----------------\n",
    "    # U_a((S,N),a)\n",
    "    my_matrix[2,1,1] = alpha*4 + (1-alpha)*(-0.5)\n",
    "    # U_a((S,N),r)\n",
    "    my_matrix[2,2,1] = alpha*(-1) + (1-alpha)*(-0.5)\n",
    "    # U_b((S,N),a)\n",
    "    my_matrix[2,1,2] = alpha*3 + (1-alpha)*0\n",
    "    # U_b((S,N),r)\n",
    "    my_matrix[2,2,2] = alpha*2 + (1-alpha)*0\n",
    "    #--------------- (N,S) -----------------\n",
    "    # U_a((N,S),a)\n",
    "    my_matrix[3,1,1] = alpha*(-2) + (1-alpha)*1\n",
    "    # U_a((N,S),r)\n",
    "    my_matrix[3,2,1] = alpha*(-2) + (1-alpha)*(-1)\n",
    "    # U_b((N,S),a)\n",
    "    my_matrix[3,1,2] = alpha*0 + (1-alpha)*(-2)\n",
    "    # U_b((N,S),r)\n",
    "    my_matrix[3,2,2] = alpha*0 + (1-alpha)*2\n",
    "    #--------------- (N,N) -----------------\n",
    "    # U_a((N,N),a)\n",
    "    my_matrix[4,1,1] = alpha*(-2) + (1-alpha)*(-0.5)\n",
    "    # U_a((N,N),r)\n",
    "    my_matrix[4,2,1] = alpha*(-2) + (1-alpha)*(-0.5)\n",
    "    # U_b((N,N),a)\n",
    "    my_matrix[4,1,2] = alpha*0 + (1-alpha)*0\n",
    "    # U_b((N,N),r)\n",
    "    my_matrix[4,2,2] = alpha*0 + (1-alpha)*0\n",
    "\n",
    "    return my_matrix\n",
    "end\n",
    "\n",
    "\n",
    "################ HERE YOU CHANGE THE VALUE OF ALPHA ################\n",
    "# Calculate the utility matrix given alpha\n",
    "alpha = 1/3\n",
    "utility_matrix = calculate_matrix(alpha)"
   ]
  },
  {
   "cell_type": "code",
   "execution_count": 59,
   "metadata": {},
   "outputs": [
    {
     "data": {
      "text/plain": [
       "4×2 Matrix{Float64}:\n",
       " -1.0        2.0\n",
       " -0.666667   1.0\n",
       " -1.33333    1.11022e-16\n",
       " -1.0       -1.0"
      ]
     },
     "metadata": {},
     "output_type": "display_data"
    }
   ],
   "source": [
    "# Calculate the intercepst for the envelope plot given λ as the probability that the\n",
    "# bank will give a loan to the airline\n",
    "\n",
    "\"\"\"\n",
    "Function that calculates the intercepts of the envelope plot. When λ = 0, the intercept\n",
    "is the utility of the airline when the bank gives a loan to the airline. When λ = 1, the\n",
    "intercept is the utility of the airline when the loan is rejected.\n",
    "\n",
    "Parameters\n",
    "----------\n",
    "M : Array\n",
    "    The utility matrix.\n",
    "\n",
    "Returns\n",
    "-------\n",
    "Matrix\n",
    "    A 4x2 matrix with the intercepts of the envelope plot\n",
    "\"\"\"\n",
    "function calculate_intercepts(M::Array)::Matrix\n",
    "    intercepts = zeros(size(M[:,:,1]))\n",
    "    #--------------- intercept with 0 -----------------\n",
    "    for λ in 0:1\n",
    "        for i in 1:4\n",
    "            intercepts[i,λ+1] = λ*M[i,1,1] + (1-λ)*M[i,2,1]\n",
    "        end\n",
    "    end\n",
    "    return intercepts\n",
    "end\n",
    "\n",
    "intercepts = calculate_intercepts(utility_matrix)\n"
   ]
  },
  {
   "cell_type": "code",
   "execution_count": 60,
   "metadata": {},
   "outputs": [
    {
     "data": {
      "application/vnd.plotly.v1+json": {
       "config": {
        "editable": false,
        "responsive": true,
        "scrollZoom": true,
        "showLink": false,
        "staticPlot": false
       },
       "data": [
        {
         "dimensions": [
          {
           "label": "λ = 0",
           "range": [
            -1.3333333333333335,
            2
           ],
           "values": [
            -1,
            -0.6666666666666667,
            -1.3333333333333335,
            -1
           ]
          },
          {
           "label": "λ = 1",
           "range": [
            -1.3333333333333335,
            2
           ],
           "values": [
            2,
            0.9999999999999999,
            1.1102230246251565e-16,
            -1
           ]
          }
         ],
         "type": "parcoords"
        }
       ],
       "frames": [],
       "layout": {
        "margin": {
         "b": 50,
         "l": 50,
         "r": 50,
         "t": 60
        },
        "template": {
         "data": {
          "bar": [
           {
            "error_x": {
             "color": "#2a3f5f"
            },
            "error_y": {
             "color": "#2a3f5f"
            },
            "marker": {
             "line": {
              "color": "#E5ECF6",
              "width": 0.5
             }
            },
            "type": "bar"
           }
          ],
          "barpolar": [
           {
            "marker": {
             "line": {
              "color": "#E5ECF6",
              "width": 0.5
             }
            },
            "type": "barpolar"
           }
          ],
          "carpet": [
           {
            "aaxis": {
             "endlinecolor": "#2a3f5f",
             "gridcolor": "white",
             "linecolor": "white",
             "minorgridcolor": "white",
             "startlinecolor": "#2a3f5f"
            },
            "baxis": {
             "endlinecolor": "#2a3f5f",
             "gridcolor": "white",
             "linecolor": "white",
             "minorgridcolor": "white",
             "startlinecolor": "#2a3f5f"
            },
            "type": "carpet"
           }
          ],
          "choropleth": [
           {
            "colorbar": {
             "outlinewidth": 0,
             "ticks": ""
            },
            "type": "choropleth"
           }
          ],
          "contour": [
           {
            "colorbar": {
             "outlinewidth": 0,
             "ticks": ""
            },
            "colorscale": [
             [
              0,
              "#0d0887"
             ],
             [
              0.1111111111111111,
              "#46039f"
             ],
             [
              0.2222222222222222,
              "#7201a8"
             ],
             [
              0.3333333333333333,
              "#9c179e"
             ],
             [
              0.4444444444444444,
              "#bd3786"
             ],
             [
              0.5555555555555556,
              "#d8576b"
             ],
             [
              0.6666666666666666,
              "#ed7953"
             ],
             [
              0.7777777777777778,
              "#fb9f3a"
             ],
             [
              0.8888888888888888,
              "#fdca26"
             ],
             [
              1,
              "#f0f921"
             ]
            ],
            "type": "contour"
           }
          ],
          "contourcarpet": [
           {
            "colorbar": {
             "outlinewidth": 0,
             "ticks": ""
            },
            "type": "contourcarpet"
           }
          ],
          "heatmap": [
           {
            "colorbar": {
             "outlinewidth": 0,
             "ticks": ""
            },
            "colorscale": [
             [
              0,
              "#0d0887"
             ],
             [
              0.1111111111111111,
              "#46039f"
             ],
             [
              0.2222222222222222,
              "#7201a8"
             ],
             [
              0.3333333333333333,
              "#9c179e"
             ],
             [
              0.4444444444444444,
              "#bd3786"
             ],
             [
              0.5555555555555556,
              "#d8576b"
             ],
             [
              0.6666666666666666,
              "#ed7953"
             ],
             [
              0.7777777777777778,
              "#fb9f3a"
             ],
             [
              0.8888888888888888,
              "#fdca26"
             ],
             [
              1,
              "#f0f921"
             ]
            ],
            "type": "heatmap"
           }
          ],
          "heatmapgl": [
           {
            "colorbar": {
             "outlinewidth": 0,
             "ticks": ""
            },
            "colorscale": [
             [
              0,
              "#0d0887"
             ],
             [
              0.1111111111111111,
              "#46039f"
             ],
             [
              0.2222222222222222,
              "#7201a8"
             ],
             [
              0.3333333333333333,
              "#9c179e"
             ],
             [
              0.4444444444444444,
              "#bd3786"
             ],
             [
              0.5555555555555556,
              "#d8576b"
             ],
             [
              0.6666666666666666,
              "#ed7953"
             ],
             [
              0.7777777777777778,
              "#fb9f3a"
             ],
             [
              0.8888888888888888,
              "#fdca26"
             ],
             [
              1,
              "#f0f921"
             ]
            ],
            "type": "heatmapgl"
           }
          ],
          "histogram": [
           {
            "marker": {
             "colorbar": {
              "outlinewidth": 0,
              "ticks": ""
             }
            },
            "type": "histogram"
           }
          ],
          "histogram2d": [
           {
            "colorbar": {
             "outlinewidth": 0,
             "ticks": ""
            },
            "colorscale": [
             [
              0,
              "#0d0887"
             ],
             [
              0.1111111111111111,
              "#46039f"
             ],
             [
              0.2222222222222222,
              "#7201a8"
             ],
             [
              0.3333333333333333,
              "#9c179e"
             ],
             [
              0.4444444444444444,
              "#bd3786"
             ],
             [
              0.5555555555555556,
              "#d8576b"
             ],
             [
              0.6666666666666666,
              "#ed7953"
             ],
             [
              0.7777777777777778,
              "#fb9f3a"
             ],
             [
              0.8888888888888888,
              "#fdca26"
             ],
             [
              1,
              "#f0f921"
             ]
            ],
            "type": "histogram2d"
           }
          ],
          "histogram2dcontour": [
           {
            "colorbar": {
             "outlinewidth": 0,
             "ticks": ""
            },
            "colorscale": [
             [
              0,
              "#0d0887"
             ],
             [
              0.1111111111111111,
              "#46039f"
             ],
             [
              0.2222222222222222,
              "#7201a8"
             ],
             [
              0.3333333333333333,
              "#9c179e"
             ],
             [
              0.4444444444444444,
              "#bd3786"
             ],
             [
              0.5555555555555556,
              "#d8576b"
             ],
             [
              0.6666666666666666,
              "#ed7953"
             ],
             [
              0.7777777777777778,
              "#fb9f3a"
             ],
             [
              0.8888888888888888,
              "#fdca26"
             ],
             [
              1,
              "#f0f921"
             ]
            ],
            "type": "histogram2dcontour"
           }
          ],
          "mesh3d": [
           {
            "colorbar": {
             "outlinewidth": 0,
             "ticks": ""
            },
            "type": "mesh3d"
           }
          ],
          "parcoords": [
           {
            "line": {
             "colorbar": {
              "outlinewidth": 0,
              "ticks": ""
             }
            },
            "type": "parcoords"
           }
          ],
          "pie": [
           {
            "automargin": true,
            "type": "pie"
           }
          ],
          "scatter": [
           {
            "marker": {
             "colorbar": {
              "outlinewidth": 0,
              "ticks": ""
             }
            },
            "type": "scatter"
           }
          ],
          "scatter3d": [
           {
            "line": {
             "colorbar": {
              "outlinewidth": 0,
              "ticks": ""
             }
            },
            "marker": {
             "colorbar": {
              "outlinewidth": 0,
              "ticks": ""
             }
            },
            "type": "scatter3d"
           }
          ],
          "scattercarpet": [
           {
            "marker": {
             "colorbar": {
              "outlinewidth": 0,
              "ticks": ""
             }
            },
            "type": "scattercarpet"
           }
          ],
          "scattergeo": [
           {
            "marker": {
             "colorbar": {
              "outlinewidth": 0,
              "ticks": ""
             }
            },
            "type": "scattergeo"
           }
          ],
          "scattergl": [
           {
            "marker": {
             "colorbar": {
              "outlinewidth": 0,
              "ticks": ""
             }
            },
            "type": "scattergl"
           }
          ],
          "scattermapbox": [
           {
            "marker": {
             "colorbar": {
              "outlinewidth": 0,
              "ticks": ""
             }
            },
            "type": "scattermapbox"
           }
          ],
          "scatterpolar": [
           {
            "marker": {
             "colorbar": {
              "outlinewidth": 0,
              "ticks": ""
             }
            },
            "type": "scatterpolar"
           }
          ],
          "scatterpolargl": [
           {
            "marker": {
             "colorbar": {
              "outlinewidth": 0,
              "ticks": ""
             }
            },
            "type": "scatterpolargl"
           }
          ],
          "scatterternary": [
           {
            "marker": {
             "colorbar": {
              "outlinewidth": 0,
              "ticks": ""
             }
            },
            "type": "scatterternary"
           }
          ],
          "surface": [
           {
            "colorbar": {
             "outlinewidth": 0,
             "ticks": ""
            },
            "colorscale": [
             [
              0,
              "#0d0887"
             ],
             [
              0.1111111111111111,
              "#46039f"
             ],
             [
              0.2222222222222222,
              "#7201a8"
             ],
             [
              0.3333333333333333,
              "#9c179e"
             ],
             [
              0.4444444444444444,
              "#bd3786"
             ],
             [
              0.5555555555555556,
              "#d8576b"
             ],
             [
              0.6666666666666666,
              "#ed7953"
             ],
             [
              0.7777777777777778,
              "#fb9f3a"
             ],
             [
              0.8888888888888888,
              "#fdca26"
             ],
             [
              1,
              "#f0f921"
             ]
            ],
            "type": "surface"
           }
          ],
          "table": [
           {
            "cells": {
             "fill": {
              "color": "#EBF0F8"
             },
             "line": {
              "color": "white"
             }
            },
            "header": {
             "fill": {
              "color": "#C8D4E3"
             },
             "line": {
              "color": "white"
             }
            },
            "type": "table"
           }
          ]
         },
         "layout": {
          "annotationdefaults": {
           "arrowcolor": "#2a3f5f",
           "arrowhead": 0,
           "arrowwidth": 1
          },
          "autotypenumbers": "strict",
          "coloraxis": {
           "colorbar": {
            "outlinewidth": 0,
            "ticks": ""
           }
          },
          "colorscale": {
           "diverging": [
            [
             0,
             "#8e0152"
            ],
            [
             0.1,
             "#c51b7d"
            ],
            [
             0.2,
             "#de77ae"
            ],
            [
             0.3,
             "#f1b6da"
            ],
            [
             0.4,
             "#fde0ef"
            ],
            [
             0.5,
             "#f7f7f7"
            ],
            [
             0.6,
             "#e6f5d0"
            ],
            [
             0.7,
             "#b8e186"
            ],
            [
             0.8,
             "#7fbc41"
            ],
            [
             0.9,
             "#4d9221"
            ],
            [
             1,
             "#276419"
            ]
           ],
           "sequential": [
            [
             0,
             "#0d0887"
            ],
            [
             0.1111111111111111,
             "#46039f"
            ],
            [
             0.2222222222222222,
             "#7201a8"
            ],
            [
             0.3333333333333333,
             "#9c179e"
            ],
            [
             0.4444444444444444,
             "#bd3786"
            ],
            [
             0.5555555555555556,
             "#d8576b"
            ],
            [
             0.6666666666666666,
             "#ed7953"
            ],
            [
             0.7777777777777778,
             "#fb9f3a"
            ],
            [
             0.8888888888888888,
             "#fdca26"
            ],
            [
             1,
             "#f0f921"
            ]
           ],
           "sequentialminus": [
            [
             0,
             "#0d0887"
            ],
            [
             0.1111111111111111,
             "#46039f"
            ],
            [
             0.2222222222222222,
             "#7201a8"
            ],
            [
             0.3333333333333333,
             "#9c179e"
            ],
            [
             0.4444444444444444,
             "#bd3786"
            ],
            [
             0.5555555555555556,
             "#d8576b"
            ],
            [
             0.6666666666666666,
             "#ed7953"
            ],
            [
             0.7777777777777778,
             "#fb9f3a"
            ],
            [
             0.8888888888888888,
             "#fdca26"
            ],
            [
             1,
             "#f0f921"
            ]
           ]
          },
          "colorway": [
           "#636efa",
           "#EF553B",
           "#00cc96",
           "#ab63fa",
           "#FFA15A",
           "#19d3f3",
           "#FF6692",
           "#B6E880",
           "#FF97FF",
           "#FECB52"
          ],
          "font": {
           "color": "#2a3f5f"
          },
          "geo": {
           "bgcolor": "white",
           "lakecolor": "white",
           "landcolor": "#E5ECF6",
           "showlakes": true,
           "showland": true,
           "subunitcolor": "white"
          },
          "hoverlabel": {
           "align": "left"
          },
          "hovermode": "closest",
          "mapbox": {
           "style": "light"
          },
          "paper_bgcolor": "white",
          "plot_bgcolor": "#E5ECF6",
          "polar": {
           "angularaxis": {
            "gridcolor": "white",
            "linecolor": "white",
            "ticks": ""
           },
           "bgcolor": "#E5ECF6",
           "radialaxis": {
            "gridcolor": "white",
            "linecolor": "white",
            "ticks": ""
           }
          },
          "scene": {
           "xaxis": {
            "backgroundcolor": "#E5ECF6",
            "gridcolor": "white",
            "gridwidth": 2,
            "linecolor": "white",
            "showbackground": true,
            "ticks": "",
            "zerolinecolor": "white"
           },
           "yaxis": {
            "backgroundcolor": "#E5ECF6",
            "gridcolor": "white",
            "gridwidth": 2,
            "linecolor": "white",
            "showbackground": true,
            "ticks": "",
            "zerolinecolor": "white"
           },
           "zaxis": {
            "backgroundcolor": "#E5ECF6",
            "gridcolor": "white",
            "gridwidth": 2,
            "linecolor": "white",
            "showbackground": true,
            "ticks": "",
            "zerolinecolor": "white"
           }
          },
          "shapedefaults": {
           "line": {
            "color": "#2a3f5f"
           }
          },
          "ternary": {
           "aaxis": {
            "gridcolor": "white",
            "linecolor": "white",
            "ticks": ""
           },
           "baxis": {
            "gridcolor": "white",
            "linecolor": "white",
            "ticks": ""
           },
           "bgcolor": "#E5ECF6",
           "caxis": {
            "gridcolor": "white",
            "linecolor": "white",
            "ticks": ""
           }
          },
          "title": {
           "x": 0.05
          },
          "xaxis": {
           "automargin": true,
           "gridcolor": "white",
           "linecolor": "white",
           "ticks": "",
           "title": {
            "standoff": 15
           },
           "zerolinecolor": "white",
           "zerolinewidth": 2
          },
          "yaxis": {
           "automargin": true,
           "gridcolor": "white",
           "linecolor": "white",
           "ticks": "",
           "title": {
            "standoff": 15
           },
           "zerolinecolor": "white",
           "zerolinewidth": 2
          }
         }
        }
       }
      },
      "image/png": "[encoded data removed]",
      "image/svg+xml": "<svg class=\"main-svg\" xmlns=\"http://www.w3.org/2000/svg\" xmlns:xlink=\"http://www.w3.org/1999/xlink\" width=\"700\" height=\"500\" style=\"\" viewBox=\"0 0 700 500\"><rect x=\"0\" y=\"0\" width=\"700\" height=\"500\" style=\"fill: rgb(255, 255, 255); fill-opacity: 1;\"/><defs id=\"defs-9deabc\"><g class=\"clips\"/><g class=\"gradients\"/></defs><g class=\"bglayer\"/><g class=\"layer-below\"><g class=\"imagelayer\"/><g class=\"shapelayer\"/></g><g class=\"cartesianlayer\"/><g class=\"polarlayer\"/><g class=\"ternarylayer\"/><g class=\"geolayer\"/><g class=\"funnelarealayer\"/><g class=\"pielayer\"/><g class=\"treemaplayer\"/><g class=\"sunburstlayer\"/><g class=\"glimages\"><image xmlns=\"http://www.w3.org/2000/svg\" xlink:href=\"data:image/png;base64,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\" preserveAspectRatio=\"none\" x=\"0\" y=\"0\" width=\"700\" height=\"500\"/><image xmlns=\"http://www.w3.org/2000/svg\" xlink:href=\"data:image/png;base64,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\" preserveAspectRatio=\"none\" x=\"0\" y=\"0\" width=\"700\" height=\"500\"/></g><defs id=\"topdefs-9deabc\"><g class=\"clips\"/></defs><g class=\"layer-above\"><g class=\"imagelayer\"/><g class=\"shapelayer\"/></g><g class=\"infolayer\"><g class=\"g-gtitle\"/></g><g class=\"parcoords\" transform=\"\" style=\"shape-rendering: crispedges; pointer-events: none;\"><g class=\"parcoords-control-view\" transform=\"translate(50,60)\"><g class=\"y-axis\" transform=\"\"><g class=\"axis-overlays\"><g class=\"axis\"><g class=\"tick\" transform=\"translate(0,349.4)\" style=\"opacity: 1;\"><line x2=\"-4\" y2=\"0\" fill=\"none\" stroke=\"black\" stroke-opacity=\"0.25\" stroke-width=\"1px\"/><text dy=\".32em\" x=\"-7\" y=\"0\" style=\"text-anchor: end; font-family: 'Open Sans', verdana, arial, sans-serif; font-size: 10px; fill: rgb(42, 63, 95); fill-opacity: 1; text-shadow: rgb(255, 255, 255) 1px 1px 1px, rgb(255, 255, 255) -1px -1px 1px, rgb(255, 255, 255) 1px -1px 1px, rgb(255, 255, 255) -1px 1px 1px; cursor: default;\">−1</text></g><g class=\"tick\" transform=\"translate(0,291.5)\" style=\"opacity: 1;\"><line x2=\"-4\" y2=\"0\" fill=\"none\" stroke=\"black\" stroke-opacity=\"0.25\" stroke-width=\"1px\"/><text dy=\".32em\" x=\"-7\" y=\"0\" style=\"text-anchor: end; font-family: 'Open Sans', verdana, arial, sans-serif; font-size: 10px; fill: rgb(42, 63, 95); fill-opacity: 1; text-shadow: rgb(255, 255, 255) 1px 1px 1px, rgb(255, 255, 255) -1px -1px 1px, rgb(255, 255, 255) 1px -1px 1px, rgb(255, 255, 255) -1px 1px 1px; cursor: default;\">−0.5</text></g><g class=\"tick\" transform=\"translate(0,233.6)\" style=\"opacity: 1;\"><line x2=\"-4\" y2=\"0\" fill=\"none\" stroke=\"black\" stroke-opacity=\"0.25\" stroke-width=\"1px\"/><text dy=\".32em\" x=\"-7\" y=\"0\" style=\"text-anchor: end; font-family: 'Open Sans', verdana, arial, sans-serif; font-size: 10px; fill: rgb(42, 63, 95); fill-opacity: 1; text-shadow: rgb(255, 255, 255) 1px 1px 1px, rgb(255, 255, 255) -1px -1px 1px, rgb(255, 255, 255) 1px -1px 1px, rgb(255, 255, 255) -1px 1px 1px; cursor: default;\">0</text></g><g class=\"tick\" transform=\"translate(0,175.7)\" style=\"opacity: 1;\"><line x2=\"-4\" y2=\"0\" fill=\"none\" stroke=\"black\" stroke-opacity=\"0.25\" stroke-width=\"1px\"/><text dy=\".32em\" x=\"-7\" y=\"0\" style=\"text-anchor: end; font-family: 'Open Sans', verdana, arial, sans-serif; font-size: 10px; fill: rgb(42, 63, 95); fill-opacity: 1; text-shadow: rgb(255, 255, 255) 1px 1px 1px, rgb(255, 255, 255) -1px -1px 1px, rgb(255, 255, 255) 1px -1px 1px, rgb(255, 255, 255) -1px 1px 1px; cursor: default;\">0.5</text></g><g class=\"tick\" transform=\"translate(0,117.79999999999998)\" style=\"opacity: 1;\"><line x2=\"-4\" y2=\"0\" fill=\"none\" stroke=\"black\" stroke-opacity=\"0.25\" stroke-width=\"1px\"/><text dy=\".32em\" x=\"-7\" y=\"0\" style=\"text-anchor: end; font-family: 'Open Sans', verdana, arial, sans-serif; font-size: 10px; fill: rgb(42, 63, 95); fill-opacity: 1; text-shadow: rgb(255, 255, 255) 1px 1px 1px, rgb(255, 255, 255) -1px -1px 1px, rgb(255, 255, 255) 1px -1px 1px, rgb(255, 255, 255) -1px 1px 1px; cursor: default;\">1</text></g><g class=\"tick\" transform=\"translate(0,59.90000000000001)\" style=\"opacity: 1;\"><line x2=\"-4\" y2=\"0\" fill=\"none\" stroke=\"black\" stroke-opacity=\"0.25\" stroke-width=\"1px\"/><text dy=\".32em\" x=\"-7\" y=\"0\" style=\"text-anchor: end; font-family: 'Open Sans', verdana, arial, sans-serif; font-size: 10px; fill: rgb(42, 63, 95); fill-opacity: 1; text-shadow: rgb(255, 255, 255) 1px 1px 1px, rgb(255, 255, 255) -1px -1px 1px, rgb(255, 255, 255) 1px -1px 1px, rgb(255, 255, 255) -1px 1px 1px; cursor: default;\">1.5</text></g><g class=\"tick\" transform=\"translate(0,2)\" style=\"opacity: 1;\"><line x2=\"-4\" y2=\"0\" fill=\"none\" stroke=\"black\" stroke-opacity=\"0.25\" stroke-width=\"1px\"/><text dy=\".32em\" x=\"-7\" y=\"0\" style=\"text-anchor: end; font-family: 'Open Sans', verdana, arial, sans-serif; font-size: 10px; fill: rgb(42, 63, 95); fill-opacity: 1; text-shadow: rgb(255, 255, 255) 1px 1px 1px, rgb(255, 255, 255) -1px -1px 1px, rgb(255, 255, 255) 1px -1px 1px, rgb(255, 255, 255) -1px 1px 1px; cursor: default;\">2</text></g><path class=\"domain\" d=\"M-2,2H0V388H-2\" fill=\"none\" stroke=\"black\" stroke-opacity=\"0.25\" stroke-width=\"1px\"/></g><g class=\"axis-heading\"><text class=\"axis-title\" text-anchor=\"middle\" x=\"0\" y=\"0\" transform=\"translate(0,-28)\" style=\"cursor: ew-resize; pointer-events: auto; font-family: 'Open Sans', verdana, arial, sans-serif; font-size: 10px; fill: rgb(42, 63, 95); fill-opacity: 1; white-space: pre;\">λ = 0</text></g><g class=\"axis-extent\"><g class=\"axis-extent-top\" transform=\"translate(0,-10)\"><text class=\"axis-extent-top-text axis-extent-text\" text-anchor=\"middle\" style=\"cursor: default; font-family: 'Open Sans', verdana, arial, sans-serif; font-size: 10px; fill: rgb(42, 63, 95); fill-opacity: 1;\">2</text></g><g class=\"axis-extent-bottom\" transform=\"translate(0,400)\"><text class=\"axis-extent-bottom-text axis-extent-text\" dy=\"0.75em\" text-anchor=\"middle\" style=\"cursor: default; font-family: 'Open Sans', verdana, arial, sans-serif; font-size: 10px; fill: rgb(42, 63, 95); fill-opacity: 1;\">−1.3333</text></g></g><g class=\"axis-brush\"><rect class=\"background\" x=\"-5\" width=\"10\" visibility=\"visible\" fill=\"yellow\" opacity=\"0\" transform=\"translate(0,2)\" height=\"388\" style=\"visibility: visible; pointer-events: auto;\"/><line class=\"highlight-shadow\" x=\"-2\" stroke-width=\"5\" stroke=\"white\" opacity=\"1\" stroke-linecap=\"butt\" y1=\"390\" stroke-dasharray=\"0,390\"/><line class=\"highlight\" x=\"-2\" stroke-width=\"3\" stroke=\"magenta\" opacity=\"1\" stroke-linecap=\"butt\" y1=\"390\" stroke-dasharray=\"0,390\"/></g></g></g><g class=\"y-axis\" transform=\"translate(600,0)\"><g class=\"axis-overlays\"><g class=\"axis\"><g class=\"tick\" transform=\"translate(0,349.4)\" style=\"opacity: 1;\"><line x2=\"-4\" y2=\"0\" fill=\"none\" stroke=\"black\" stroke-opacity=\"0.25\" stroke-width=\"1px\"/><text dy=\".32em\" x=\"-7\" y=\"0\" style=\"text-anchor: end; font-family: 'Open Sans', verdana, arial, sans-serif; font-size: 10px; fill: rgb(42, 63, 95); fill-opacity: 1; text-shadow: rgb(255, 255, 255) 1px 1px 1px, rgb(255, 255, 255) -1px -1px 1px, rgb(255, 255, 255) 1px -1px 1px, rgb(255, 255, 255) -1px 1px 1px; cursor: default;\">−1</text></g><g class=\"tick\" transform=\"translate(0,291.5)\" style=\"opacity: 1;\"><line x2=\"-4\" y2=\"0\" fill=\"none\" stroke=\"black\" stroke-opacity=\"0.25\" stroke-width=\"1px\"/><text dy=\".32em\" x=\"-7\" y=\"0\" style=\"text-anchor: end; font-family: 'Open Sans', verdana, arial, sans-serif; font-size: 10px; fill: rgb(42, 63, 95); fill-opacity: 1; text-shadow: rgb(255, 255, 255) 1px 1px 1px, rgb(255, 255, 255) -1px -1px 1px, rgb(255, 255, 255) 1px -1px 1px, rgb(255, 255, 255) -1px 1px 1px; cursor: default;\">−0.5</text></g><g class=\"tick\" transform=\"translate(0,233.6)\" style=\"opacity: 1;\"><line x2=\"-4\" y2=\"0\" fill=\"none\" stroke=\"black\" stroke-opacity=\"0.25\" stroke-width=\"1px\"/><text dy=\".32em\" x=\"-7\" y=\"0\" style=\"text-anchor: end; font-family: 'Open Sans', verdana, arial, sans-serif; font-size: 10px; fill: rgb(42, 63, 95); fill-opacity: 1; text-shadow: rgb(255, 255, 255) 1px 1px 1px, rgb(255, 255, 255) -1px -1px 1px, rgb(255, 255, 255) 1px -1px 1px, rgb(255, 255, 255) -1px 1px 1px; cursor: default;\">0</text></g><g class=\"tick\" transform=\"translate(0,175.7)\" style=\"opacity: 1;\"><line x2=\"-4\" y2=\"0\" fill=\"none\" stroke=\"black\" stroke-opacity=\"0.25\" stroke-width=\"1px\"/><text dy=\".32em\" x=\"-7\" y=\"0\" style=\"text-anchor: end; font-family: 'Open Sans', verdana, arial, sans-serif; font-size: 10px; fill: rgb(42, 63, 95); fill-opacity: 1; text-shadow: rgb(255, 255, 255) 1px 1px 1px, rgb(255, 255, 255) -1px -1px 1px, rgb(255, 255, 255) 1px -1px 1px, rgb(255, 255, 255) -1px 1px 1px; cursor: default;\">0.5</text></g><g class=\"tick\" transform=\"translate(0,117.79999999999998)\" style=\"opacity: 1;\"><line x2=\"-4\" y2=\"0\" fill=\"none\" stroke=\"black\" stroke-opacity=\"0.25\" stroke-width=\"1px\"/><text dy=\".32em\" x=\"-7\" y=\"0\" style=\"text-anchor: end; font-family: 'Open Sans', verdana, arial, sans-serif; font-size: 10px; fill: rgb(42, 63, 95); fill-opacity: 1; text-shadow: rgb(255, 255, 255) 1px 1px 1px, rgb(255, 255, 255) -1px -1px 1px, rgb(255, 255, 255) 1px -1px 1px, rgb(255, 255, 255) -1px 1px 1px; cursor: default;\">1</text></g><g class=\"tick\" transform=\"translate(0,59.90000000000001)\" style=\"opacity: 1;\"><line x2=\"-4\" y2=\"0\" fill=\"none\" stroke=\"black\" stroke-opacity=\"0.25\" stroke-width=\"1px\"/><text dy=\".32em\" x=\"-7\" y=\"0\" style=\"text-anchor: end; font-family: 'Open Sans', verdana, arial, sans-serif; font-size: 10px; fill: rgb(42, 63, 95); fill-opacity: 1; text-shadow: rgb(255, 255, 255) 1px 1px 1px, rgb(255, 255, 255) -1px -1px 1px, rgb(255, 255, 255) 1px -1px 1px, rgb(255, 255, 255) -1px 1px 1px; cursor: default;\">1.5</text></g><g class=\"tick\" transform=\"translate(0,2)\" style=\"opacity: 1;\"><line x2=\"-4\" y2=\"0\" fill=\"none\" stroke=\"black\" stroke-opacity=\"0.25\" stroke-width=\"1px\"/><text dy=\".32em\" x=\"-7\" y=\"0\" style=\"text-anchor: end; font-family: 'Open Sans', verdana, arial, sans-serif; font-size: 10px; fill: rgb(42, 63, 95); fill-opacity: 1; text-shadow: rgb(255, 255, 255) 1px 1px 1px, rgb(255, 255, 255) -1px -1px 1px, rgb(255, 255, 255) 1px -1px 1px, rgb(255, 255, 255) -1px 1px 1px; cursor: default;\">2</text></g><path class=\"domain\" d=\"M-2,2H0V388H-2\" fill=\"none\" stroke=\"black\" stroke-opacity=\"0.25\" stroke-width=\"1px\"/></g><g class=\"axis-heading\"><text class=\"axis-title\" text-anchor=\"middle\" x=\"0\" y=\"0\" transform=\"translate(0,-28)\" style=\"cursor: ew-resize; pointer-events: auto; font-family: 'Open Sans', verdana, arial, sans-serif; font-size: 10px; fill: rgb(42, 63, 95); fill-opacity: 1; white-space: pre;\">λ = 1</text></g><g class=\"axis-extent\"><g class=\"axis-extent-top\" transform=\"translate(0,-10)\"><text class=\"axis-extent-top-text axis-extent-text\" text-anchor=\"middle\" style=\"cursor: default; font-family: 'Open Sans', verdana, arial, sans-serif; font-size: 10px; fill: rgb(42, 63, 95); fill-opacity: 1;\">2</text></g><g class=\"axis-extent-bottom\" transform=\"translate(0,400)\"><text class=\"axis-extent-bottom-text axis-extent-text\" dy=\"0.75em\" text-anchor=\"middle\" style=\"cursor: default; font-family: 'Open Sans', verdana, arial, sans-serif; font-size: 10px; fill: rgb(42, 63, 95); fill-opacity: 1;\">−1.3333</text></g></g><g class=\"axis-brush\"><rect class=\"background\" x=\"-5\" width=\"10\" visibility=\"visible\" fill=\"yellow\" opacity=\"0\" transform=\"translate(0,2)\" height=\"388\" style=\"visibility: visible; pointer-events: auto;\"/><line class=\"highlight-shadow\" x=\"-2\" stroke-width=\"5\" stroke=\"white\" opacity=\"1\" stroke-linecap=\"butt\" y1=\"390\" stroke-dasharray=\"0,390\"/><line class=\"highlight\" x=\"-2\" stroke-width=\"3\" stroke=\"magenta\" opacity=\"1\" stroke-linecap=\"butt\" y1=\"390\" stroke-dasharray=\"0,390\"/></g></g></g></g></g></svg>",
      "text/html": [
       "<div\n",
       "    class=\"webio-mountpoint\"\n",
       "    data-webio-mountpoint=\"9443843416128176220\"\n",
       ">\n",
       "    <script>\n",
       "    (function(){\n",
       "    // Some integrations (namely, IJulia/Jupyter) use an alternate render pathway than\n",
       "    // just putting the html on the page. If WebIO isn't defined, then it's pretty likely\n",
       "    // that we're in one of those situations and the integration just isn't installed\n",
       "    // correctly.\n",
       "    if (typeof window.WebIO === \"undefined\") {\n",
       "        document\n",
       "            .querySelector('[data-webio-mountpoint=\"9443843416128176220\"]')\n",
       "            .innerHTML = (\n",
       "                '<div style=\"padding: 1em; background-color: #f8d6da; border: 1px solid #f5c6cb; font-weight: bold;\">' +\n",
       "                '<p><strong>WebIO not detected.</strong></p>' +\n",
       "                '<p>Please read ' +\n",
       "                '<a href=\"https://juliagizmos.github.io/WebIO.jl/latest/troubleshooting/not-detected/\" target=\"_blank\">the troubleshooting guide</a> ' +\n",
       "                'for more information on how to resolve this issue.</p>' +\n",
       "                '<p><a href=\"https://juliagizmos.github.io/WebIO.jl/latest/troubleshooting/not-detected/\" target=\"_blank\">https://juliagizmos.github.io/WebIO.jl/latest/troubleshooting/not-detected/</a></p>' +\n",
       "                '</div>'\n",
       "            );\n",
       "        return;\n",
       "    }\n",
       "    WebIO.mount(\n",
       "        document.querySelector('[data-webio-mountpoint=\"9443843416128176220\"]'),\n",
       "        {\"props\":{},\"nodeType\":\"Scope\",\"type\":\"node\",\"instanceArgs\":{\"imports\":{\"data\":[{\"name\":\"Plotly\",\"type\":\"js\",\"url\":\"\\/assetserver\\/2ba1ffccc81a41b0e3898dc6c638214d1c32b0ab-plotly.min.js\"},{\"name\":null,\"type\":\"js\",\"url\":\"\\/assetserver\\/462d6578a330709433b3f3727d4ef2c9061cb857-plotly_webio.bundle.js\"}],\"type\":\"async_block\"},\"id\":\"10492782328119892038\",\"handlers\":{\"_toImage\":[\"(function (options){return this.Plotly.toImage(this.plotElem,options).then((function (data){return WebIO.setval({\\\"name\\\":\\\"image\\\",\\\"scope\\\":\\\"10492782328119892038\\\",\\\"id\\\":\\\"9704387829463008937\\\",\\\"type\\\":\\\"observable\\\"},data)}))})\"],\"__get_gd_contents\":[\"(function (prop){prop==\\\"data\\\" ? (WebIO.setval({\\\"name\\\":\\\"__gd_contents\\\",\\\"scope\\\":\\\"10492782328119892038\\\",\\\"id\\\":\\\"11841822715274976133\\\",\\\"type\\\":\\\"observable\\\"},this.plotElem.data)) : undefined; return prop==\\\"layout\\\" ? (WebIO.setval({\\\"name\\\":\\\"__gd_contents\\\",\\\"scope\\\":\\\"10492782328119892038\\\",\\\"id\\\":\\\"11841822715274976133\\\",\\\"type\\\":\\\"observable\\\"},this.plotElem.layout)) : undefined})\"],\"_downloadImage\":[\"(function (options){return this.Plotly.downloadImage(this.plotElem,options)})\"],\"_commands\":[\"(function (args){var fn=args.shift(); var elem=this.plotElem; var Plotly=this.Plotly; args.unshift(elem); return Plotly[fn].apply(this,args)})\"]},\"systemjs_options\":null,\"mount_callbacks\":[\"function () {\\n    var handler = ((function (Plotly,PlotlyWebIO){PlotlyWebIO.init(WebIO); var gd=this.dom.querySelector(\\\"#plot-e15ad2b3-2f47-4e33-9fce-7c5c6c7a82e1\\\"); this.plotElem=gd; this.Plotly=Plotly; (window.Blink!==undefined) ? (gd.style.width=\\\"100%\\\", gd.style.height=\\\"100vh\\\", gd.style.marginLeft=\\\"0%\\\", gd.style.marginTop=\\\"0vh\\\") : undefined; window.onresize=(function (){return Plotly.Plots.resize(gd)}); Plotly.newPlot(gd,[{\\\"type\\\":\\\"parcoords\\\",\\\"dimensions\\\":[{\\\"values\\\":[-1.0,-0.6666666666666667,-1.3333333333333335,-1.0],\\\"label\\\":\\\"λ = 0\\\",\\\"range\\\":[-1.3333333333333335,2.0]},{\\\"values\\\":[2.0,0.9999999999999999,1.1102230246251565e-16,-1.0],\\\"label\\\":\\\"λ = 1\\\",\\\"range\\\":[-1.3333333333333335,2.0]}]}],{\\\"template\\\":{\\\"layout\\\":{\\\"coloraxis\\\":{\\\"colorbar\\\":{\\\"ticks\\\":\\\"\\\",\\\"outlinewidth\\\":0}},\\\"xaxis\\\":{\\\"gridcolor\\\":\\\"white\\\",\\\"zerolinewidth\\\":2,\\\"title\\\":{\\\"standoff\\\":15},\\\"ticks\\\":\\\"\\\",\\\"zerolinecolor\\\":\\\"white\\\",\\\"automargin\\\":true,\\\"linecolor\\\":\\\"white\\\"},\\\"hovermode\\\":\\\"closest\\\",\\\"paper_bgcolor\\\":\\\"white\\\",\\\"geo\\\":{\\\"showlakes\\\":true,\\\"showland\\\":true,\\\"landcolor\\\":\\\"#E5ECF6\\\",\\\"bgcolor\\\":\\\"white\\\",\\\"subunitcolor\\\":\\\"white\\\",\\\"lakecolor\\\":\\\"white\\\"},\\\"colorscale\\\":{\\\"sequential\\\":[[0.0,\\\"#0d0887\\\"],[0.1111111111111111,\\\"#46039f\\\"],[0.2222222222222222,\\\"#7201a8\\\"],[0.3333333333333333,\\\"#9c179e\\\"],[0.4444444444444444,\\\"#bd3786\\\"],[0.5555555555555556,\\\"#d8576b\\\"],[0.6666666666666666,\\\"#ed7953\\\"],[0.7777777777777778,\\\"#fb9f3a\\\"],[0.8888888888888888,\\\"#fdca26\\\"],[1.0,\\\"#f0f921\\\"]],\\\"diverging\\\":[[0,\\\"#8e0152\\\"],[0.1,\\\"#c51b7d\\\"],[0.2,\\\"#de77ae\\\"],[0.3,\\\"#f1b6da\\\"],[0.4,\\\"#fde0ef\\\"],[0.5,\\\"#f7f7f7\\\"],[0.6,\\\"#e6f5d0\\\"],[0.7,\\\"#b8e186\\\"],[0.8,\\\"#7fbc41\\\"],[0.9,\\\"#4d9221\\\"],[1,\\\"#276419\\\"]],\\\"sequentialminus\\\":[[0.0,\\\"#0d0887\\\"],[0.1111111111111111,\\\"#46039f\\\"],[0.2222222222222222,\\\"#7201a8\\\"],[0.3333333333333333,\\\"#9c179e\\\"],[0.4444444444444444,\\\"#bd3786\\\"],[0.5555555555555556,\\\"#d8576b\\\"],[0.6666666666666666,\\\"#ed7953\\\"],[0.7777777777777778,\\\"#fb9f3a\\\"],[0.8888888888888888,\\\"#fdca26\\\"],[1.0,\\\"#f0f921\\\"]]},\\\"yaxis\\\":{\\\"gridcolor\\\":\\\"white\\\",\\\"zerolinewidth\\\":2,\\\"title\\\":{\\\"standoff\\\":15},\\\"ticks\\\":\\\"\\\",\\\"zerolinecolor\\\":\\\"white\\\",\\\"automargin\\\":true,\\\"linecolor\\\":\\\"white\\\"},\\\"shapedefaults\\\":{\\\"line\\\":{\\\"color\\\":\\\"#2a3f5f\\\"}},\\\"hoverlabel\\\":{\\\"align\\\":\\\"left\\\"},\\\"mapbox\\\":{\\\"style\\\":\\\"light\\\"},\\\"polar\\\":{\\\"angularaxis\\\":{\\\"gridcolor\\\":\\\"white\\\",\\\"ticks\\\":\\\"\\\",\\\"linecolor\\\":\\\"white\\\"},\\\"bgcolor\\\":\\\"#E5ECF6\\\",\\\"radialaxis\\\":{\\\"gridcolor\\\":\\\"white\\\",\\\"ticks\\\":\\\"\\\",\\\"linecolor\\\":\\\"white\\\"}},\\\"autotypenumbers\\\":\\\"strict\\\",\\\"font\\\":{\\\"color\\\":\\\"#2a3f5f\\\"},\\\"ternary\\\":{\\\"baxis\\\":{\\\"gridcolor\\\":\\\"white\\\",\\\"ticks\\\":\\\"\\\",\\\"linecolor\\\":\\\"white\\\"},\\\"bgcolor\\\":\\\"#E5ECF6\\\",\\\"caxis\\\":{\\\"gridcolor\\\":\\\"white\\\",\\\"ticks\\\":\\\"\\\",\\\"linecolor\\\":\\\"white\\\"},\\\"aaxis\\\":{\\\"gridcolor\\\":\\\"white\\\",\\\"ticks\\\":\\\"\\\",\\\"linecolor\\\":\\\"white\\\"}},\\\"annotationdefaults\\\":{\\\"arrowhead\\\":0,\\\"arrowwidth\\\":1,\\\"arrowcolor\\\":\\\"#2a3f5f\\\"},\\\"plot_bgcolor\\\":\\\"#E5ECF6\\\",\\\"title\\\":{\\\"x\\\":0.05},\\\"scene\\\":{\\\"xaxis\\\":{\\\"gridcolor\\\":\\\"white\\\",\\\"gridwidth\\\":2,\\\"backgroundcolor\\\":\\\"#E5ECF6\\\",\\\"ticks\\\":\\\"\\\",\\\"showbackground\\\":true,\\\"zerolinecolor\\\":\\\"white\\\",\\\"linecolor\\\":\\\"white\\\"},\\\"zaxis\\\":{\\\"gridcolor\\\":\\\"white\\\",\\\"gridwidth\\\":2,\\\"backgroundcolor\\\":\\\"#E5ECF6\\\",\\\"ticks\\\":\\\"\\\",\\\"showbackground\\\":true,\\\"zerolinecolor\\\":\\\"white\\\",\\\"linecolor\\\":\\\"white\\\"},\\\"yaxis\\\":{\\\"gridcolor\\\":\\\"white\\\",\\\"gridwidth\\\":2,\\\"backgroundcolor\\\":\\\"#E5ECF6\\\",\\\"ticks\\\":\\\"\\\",\\\"showbackground\\\":true,\\\"zerolinecolor\\\":\\\"white\\\",\\\"linecolor\\\":\\\"white\\\"}},\\\"colorway\\\":[\\\"#636efa\\\",\\\"#EF553B\\\",\\\"#00cc96\\\",\\\"#ab63fa\\\",\\\"#FFA15A\\\",\\\"#19d3f3\\\",\\\"#FF6692\\\",\\\"#B6E880\\\",\\\"#FF97FF\\\",\\\"#FECB52\\\"]},\\\"data\\\":{\\\"barpolar\\\":[{\\\"type\\\":\\\"barpolar\\\",\\\"marker\\\":{\\\"line\\\":{\\\"color\\\":\\\"#E5ECF6\\\",\\\"width\\\":0.5}}}],\\\"carpet\\\":[{\\\"aaxis\\\":{\\\"gridcolor\\\":\\\"white\\\",\\\"endlinecolor\\\":\\\"#2a3f5f\\\",\\\"minorgridcolor\\\":\\\"white\\\",\\\"startlinecolor\\\":\\\"#2a3f5f\\\",\\\"linecolor\\\":\\\"white\\\"},\\\"type\\\":\\\"carpet\\\",\\\"baxis\\\":{\\\"gridcolor\\\":\\\"white\\\",\\\"endlinecolor\\\":\\\"#2a3f5f\\\",\\\"minorgridcolor\\\":\\\"white\\\",\\\"startlinecolor\\\":\\\"#2a3f5f\\\",\\\"linecolor\\\":\\\"white\\\"}}],\\\"scatterpolar\\\":[{\\\"type\\\":\\\"scatterpolar\\\",\\\"marker\\\":{\\\"colorbar\\\":{\\\"ticks\\\":\\\"\\\",\\\"outlinewidth\\\":0}}}],\\\"parcoords\\\":[{\\\"line\\\":{\\\"colorbar\\\":{\\\"ticks\\\":\\\"\\\",\\\"outlinewidth\\\":0}},\\\"type\\\":\\\"parcoords\\\"}],\\\"scatter\\\":[{\\\"type\\\":\\\"scatter\\\",\\\"marker\\\":{\\\"colorbar\\\":{\\\"ticks\\\":\\\"\\\",\\\"outlinewidth\\\":0}}}],\\\"histogram2dcontour\\\":[{\\\"colorbar\\\":{\\\"ticks\\\":\\\"\\\",\\\"outlinewidth\\\":0},\\\"type\\\":\\\"histogram2dcontour\\\",\\\"colorscale\\\":[[0.0,\\\"#0d0887\\\"],[0.1111111111111111,\\\"#46039f\\\"],[0.2222222222222222,\\\"#7201a8\\\"],[0.3333333333333333,\\\"#9c179e\\\"],[0.4444444444444444,\\\"#bd3786\\\"],[0.5555555555555556,\\\"#d8576b\\\"],[0.6666666666666666,\\\"#ed7953\\\"],[0.7777777777777778,\\\"#fb9f3a\\\"],[0.8888888888888888,\\\"#fdca26\\\"],[1.0,\\\"#f0f921\\\"]]}],\\\"contour\\\":[{\\\"colorbar\\\":{\\\"ticks\\\":\\\"\\\",\\\"outlinewidth\\\":0},\\\"type\\\":\\\"contour\\\",\\\"colorscale\\\":[[0.0,\\\"#0d0887\\\"],[0.1111111111111111,\\\"#46039f\\\"],[0.2222222222222222,\\\"#7201a8\\\"],[0.3333333333333333,\\\"#9c179e\\\"],[0.4444444444444444,\\\"#bd3786\\\"],[0.5555555555555556,\\\"#d8576b\\\"],[0.6666666666666666,\\\"#ed7953\\\"],[0.7777777777777778,\\\"#fb9f3a\\\"],[0.8888888888888888,\\\"#fdca26\\\"],[1.0,\\\"#f0f921\\\"]]}],\\\"scattercarpet\\\":[{\\\"type\\\":\\\"scattercarpet\\\",\\\"marker\\\":{\\\"colorbar\\\":{\\\"ticks\\\":\\\"\\\",\\\"outlinewidth\\\":0}}}],\\\"mesh3d\\\":[{\\\"colorbar\\\":{\\\"ticks\\\":\\\"\\\",\\\"outlinewidth\\\":0},\\\"type\\\":\\\"mesh3d\\\"}],\\\"surface\\\":[{\\\"colorbar\\\":{\\\"ticks\\\":\\\"\\\",\\\"outlinewidth\\\":0},\\\"type\\\":\\\"surface\\\",\\\"colorscale\\\":[[0.0,\\\"#0d0887\\\"],[0.1111111111111111,\\\"#46039f\\\"],[0.2222222222222222,\\\"#7201a8\\\"],[0.3333333333333333,\\\"#9c179e\\\"],[0.4444444444444444,\\\"#bd3786\\\"],[0.5555555555555556,\\\"#d8576b\\\"],[0.6666666666666666,\\\"#ed7953\\\"],[0.7777777777777778,\\\"#fb9f3a\\\"],[0.8888888888888888,\\\"#fdca26\\\"],[1.0,\\\"#f0f921\\\"]]}],\\\"scattermapbox\\\":[{\\\"type\\\":\\\"scattermapbox\\\",\\\"marker\\\":{\\\"colorbar\\\":{\\\"ticks\\\":\\\"\\\",\\\"outlinewidth\\\":0}}}],\\\"scattergeo\\\":[{\\\"type\\\":\\\"scattergeo\\\",\\\"marker\\\":{\\\"colorbar\\\":{\\\"ticks\\\":\\\"\\\",\\\"outlinewidth\\\":0}}}],\\\"histogram\\\":[{\\\"type\\\":\\\"histogram\\\",\\\"marker\\\":{\\\"colorbar\\\":{\\\"ticks\\\":\\\"\\\",\\\"outlinewidth\\\":0}}}],\\\"pie\\\":[{\\\"type\\\":\\\"pie\\\",\\\"automargin\\\":true}],\\\"choropleth\\\":[{\\\"colorbar\\\":{\\\"ticks\\\":\\\"\\\",\\\"outlinewidth\\\":0},\\\"type\\\":\\\"choropleth\\\"}],\\\"heatmapgl\\\":[{\\\"colorbar\\\":{\\\"ticks\\\":\\\"\\\",\\\"outlinewidth\\\":0},\\\"type\\\":\\\"heatmapgl\\\",\\\"colorscale\\\":[[0.0,\\\"#0d0887\\\"],[0.1111111111111111,\\\"#46039f\\\"],[0.2222222222222222,\\\"#7201a8\\\"],[0.3333333333333333,\\\"#9c179e\\\"],[0.4444444444444444,\\\"#bd3786\\\"],[0.5555555555555556,\\\"#d8576b\\\"],[0.6666666666666666,\\\"#ed7953\\\"],[0.7777777777777778,\\\"#fb9f3a\\\"],[0.8888888888888888,\\\"#fdca26\\\"],[1.0,\\\"#f0f921\\\"]]}],\\\"bar\\\":[{\\\"type\\\":\\\"bar\\\",\\\"error_y\\\":{\\\"color\\\":\\\"#2a3f5f\\\"},\\\"error_x\\\":{\\\"color\\\":\\\"#2a3f5f\\\"},\\\"marker\\\":{\\\"line\\\":{\\\"color\\\":\\\"#E5ECF6\\\",\\\"width\\\":0.5}}}],\\\"heatmap\\\":[{\\\"colorbar\\\":{\\\"ticks\\\":\\\"\\\",\\\"outlinewidth\\\":0},\\\"type\\\":\\\"heatmap\\\",\\\"colorscale\\\":[[0.0,\\\"#0d0887\\\"],[0.1111111111111111,\\\"#46039f\\\"],[0.2222222222222222,\\\"#7201a8\\\"],[0.3333333333333333,\\\"#9c179e\\\"],[0.4444444444444444,\\\"#bd3786\\\"],[0.5555555555555556,\\\"#d8576b\\\"],[0.6666666666666666,\\\"#ed7953\\\"],[0.7777777777777778,\\\"#fb9f3a\\\"],[0.8888888888888888,\\\"#fdca26\\\"],[1.0,\\\"#f0f921\\\"]]}],\\\"contourcarpet\\\":[{\\\"colorbar\\\":{\\\"ticks\\\":\\\"\\\",\\\"outlinewidth\\\":0},\\\"type\\\":\\\"contourcarpet\\\"}],\\\"table\\\":[{\\\"type\\\":\\\"table\\\",\\\"header\\\":{\\\"line\\\":{\\\"color\\\":\\\"white\\\"},\\\"fill\\\":{\\\"color\\\":\\\"#C8D4E3\\\"}},\\\"cells\\\":{\\\"line\\\":{\\\"color\\\":\\\"white\\\"},\\\"fill\\\":{\\\"color\\\":\\\"#EBF0F8\\\"}}}],\\\"scatter3d\\\":[{\\\"line\\\":{\\\"colorbar\\\":{\\\"ticks\\\":\\\"\\\",\\\"outlinewidth\\\":0}},\\\"type\\\":\\\"scatter3d\\\",\\\"marker\\\":{\\\"colorbar\\\":{\\\"ticks\\\":\\\"\\\",\\\"outlinewidth\\\":0}}}],\\\"scattergl\\\":[{\\\"type\\\":\\\"scattergl\\\",\\\"marker\\\":{\\\"colorbar\\\":{\\\"ticks\\\":\\\"\\\",\\\"outlinewidth\\\":0}}}],\\\"histogram2d\\\":[{\\\"colorbar\\\":{\\\"ticks\\\":\\\"\\\",\\\"outlinewidth\\\":0},\\\"type\\\":\\\"histogram2d\\\",\\\"colorscale\\\":[[0.0,\\\"#0d0887\\\"],[0.1111111111111111,\\\"#46039f\\\"],[0.2222222222222222,\\\"#7201a8\\\"],[0.3333333333333333,\\\"#9c179e\\\"],[0.4444444444444444,\\\"#bd3786\\\"],[0.5555555555555556,\\\"#d8576b\\\"],[0.6666666666666666,\\\"#ed7953\\\"],[0.7777777777777778,\\\"#fb9f3a\\\"],[0.8888888888888888,\\\"#fdca26\\\"],[1.0,\\\"#f0f921\\\"]]}],\\\"scatterternary\\\":[{\\\"type\\\":\\\"scatterternary\\\",\\\"marker\\\":{\\\"colorbar\\\":{\\\"ticks\\\":\\\"\\\",\\\"outlinewidth\\\":0}}}],\\\"scatterpolargl\\\":[{\\\"type\\\":\\\"scatterpolargl\\\",\\\"marker\\\":{\\\"colorbar\\\":{\\\"ticks\\\":\\\"\\\",\\\"outlinewidth\\\":0}}}]}},\\\"margin\\\":{\\\"l\\\":50,\\\"b\\\":50,\\\"r\\\":50,\\\"t\\\":60}},{\\\"showLink\\\":false,\\\"editable\\\":false,\\\"responsive\\\":true,\\\"staticPlot\\\":false,\\\"scrollZoom\\\":true}); gd.on(\\\"plotly_hover\\\",(function (data){var filtered_data=WebIO.PlotlyCommands.filterEventData(gd,data,\\\"hover\\\"); return !(filtered_data.isnil) ? (WebIO.setval({\\\"name\\\":\\\"hover\\\",\\\"scope\\\":\\\"10492782328119892038\\\",\\\"id\\\":\\\"17721830057318259784\\\",\\\"type\\\":\\\"observable\\\"},filtered_data.out)) : undefined})); gd.on(\\\"plotly_unhover\\\",(function (){return WebIO.setval({\\\"name\\\":\\\"hover\\\",\\\"scope\\\":\\\"10492782328119892038\\\",\\\"id\\\":\\\"17721830057318259784\\\",\\\"type\\\":\\\"observable\\\"},{})})); gd.on(\\\"plotly_selected\\\",(function (data){var filtered_data=WebIO.PlotlyCommands.filterEventData(gd,data,\\\"selected\\\"); return !(filtered_data.isnil) ? (WebIO.setval({\\\"name\\\":\\\"selected\\\",\\\"scope\\\":\\\"10492782328119892038\\\",\\\"id\\\":\\\"18312606133462847140\\\",\\\"type\\\":\\\"observable\\\"},filtered_data.out)) : undefined})); gd.on(\\\"plotly_deselect\\\",(function (){return WebIO.setval({\\\"name\\\":\\\"selected\\\",\\\"scope\\\":\\\"10492782328119892038\\\",\\\"id\\\":\\\"18312606133462847140\\\",\\\"type\\\":\\\"observable\\\"},{})})); gd.on(\\\"plotly_relayout\\\",(function (data){var filtered_data=WebIO.PlotlyCommands.filterEventData(gd,data,\\\"relayout\\\"); return !(filtered_data.isnil) ? (WebIO.setval({\\\"name\\\":\\\"relayout\\\",\\\"scope\\\":\\\"10492782328119892038\\\",\\\"id\\\":\\\"5669424341864292518\\\",\\\"type\\\":\\\"observable\\\"},filtered_data.out)) : undefined})); return gd.on(\\\"plotly_click\\\",(function (data){var filtered_data=WebIO.PlotlyCommands.filterEventData(gd,data,\\\"click\\\"); return !(filtered_data.isnil) ? (WebIO.setval({\\\"name\\\":\\\"click\\\",\\\"scope\\\":\\\"10492782328119892038\\\",\\\"id\\\":\\\"785216104996155912\\\",\\\"type\\\":\\\"observable\\\"},filtered_data.out)) : undefined}))}));\\n    (WebIO.importBlock({\\\"data\\\":[{\\\"name\\\":\\\"Plotly\\\",\\\"type\\\":\\\"js\\\",\\\"url\\\":\\\"\\/assetserver\\/2ba1ffccc81a41b0e3898dc6c638214d1c32b0ab-plotly.min.js\\\"},{\\\"name\\\":null,\\\"type\\\":\\\"js\\\",\\\"url\\\":\\\"\\/assetserver\\/462d6578a330709433b3f3727d4ef2c9061cb857-plotly_webio.bundle.js\\\"}],\\\"type\\\":\\\"async_block\\\"})).then((imports) => handler.apply(this, imports));\\n}\\n\"],\"observables\":{\"_toImage\":{\"sync\":false,\"id\":\"691069653025257298\",\"value\":{}},\"hover\":{\"sync\":false,\"id\":\"17721830057318259784\",\"value\":{}},\"selected\":{\"sync\":false,\"id\":\"18312606133462847140\",\"value\":{}},\"__gd_contents\":{\"sync\":false,\"id\":\"11841822715274976133\",\"value\":{}},\"click\":{\"sync\":false,\"id\":\"785216104996155912\",\"value\":{}},\"image\":{\"sync\":true,\"id\":\"9704387829463008937\",\"value\":\"\"},\"__get_gd_contents\":{\"sync\":false,\"id\":\"12884733950249970397\",\"value\":\"\"},\"_downloadImage\":{\"sync\":false,\"id\":\"3281818623240820998\",\"value\":{}},\"relayout\":{\"sync\":false,\"id\":\"5669424341864292518\",\"value\":{}},\"_commands\":{\"sync\":false,\"id\":\"1809864488332853633\",\"value\":[]}}},\"children\":[{\"props\":{\"id\":\"plot-e15ad2b3-2f47-4e33-9fce-7c5c6c7a82e1\"},\"nodeType\":\"DOM\",\"type\":\"node\",\"instanceArgs\":{\"namespace\":\"html\",\"tag\":\"div\"},\"children\":[]}]},\n",
       "        window,\n",
       "    );\n",
       "    })()\n",
       "    </script>\n",
       "</div>\n"
      ],
      "text/plain": [
       "data: [\n",
       "  \"parcoords with fields dimensions and type\"\n",
       "]\n",
       "\n",
       "layout: \"layout with fields margin and template\"\n",
       "\n"
      ]
     },
     "metadata": {},
     "output_type": "display_data"
    }
   ],
   "source": [
    "# Get the ranges\n",
    "ub = maximum([maximum(intercepts[:,1]), maximum(intercepts[:,2])])\n",
    "lb = minimum([minimum(intercepts[:,1]), minimum(intercepts[:,2])])\n",
    "# Make a parallel coordinates plot with the intercepts, with thick lines\n",
    "\n",
    "\n",
    "\n",
    "p = parcoords(;\n",
    "    dimensions = [\n",
    "        attr(range = [lb, ub], label = \"λ = 0\", values = intercepts[:,1]),\n",
    "        attr(range = [lb, ub], label = \"λ = 1\", values = intercepts[:,2])\n",
    "    ]\n",
    ")\n",
    "plot(p)"
   ]
  }
 ],
 "metadata": {
  "kernelspec": {
   "display_name": "Julia 1.8.5",
   "language": "julia",
   "name": "julia-1.8"
  },
  "language_info": {
   "file_extension": ".jl",
   "mimetype": "application/julia",
   "name": "julia",
   "version": "1.8.5"
  },
  "orig_nbformat": 4
 },
 "nbformat": 4,
 "nbformat_minor": 2
}
