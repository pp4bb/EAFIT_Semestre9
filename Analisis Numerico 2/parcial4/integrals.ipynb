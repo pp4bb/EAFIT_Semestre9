{
 "cells": [
  {
   "cell_type": "code",
   "execution_count": 1,
   "metadata": {},
   "outputs": [
    {
     "data": {
      "text/plain": [
       "PyObject Piecewise"
      ]
     },
     "metadata": {},
     "output_type": "display_data"
    }
   ],
   "source": [
    "using SymPy\n",
    "Piecewise = SymPy.sympy.Piecewise"
   ]
  },
  {
   "cell_type": "code",
   "execution_count": 2,
   "metadata": {},
   "outputs": [
    {
     "data": {
      "text/plain": [
       "(x, n, j)"
      ]
     },
     "metadata": {},
     "output_type": "display_data"
    }
   ],
   "source": [
    "@vars x n j"
   ]
  },
  {
   "cell_type": "code",
   "execution_count": 3,
   "metadata": {},
   "outputs": [
    {
     "data": {
      "text/latex": [
       "$\\frac{1}{n}$"
      ],
      "text/plain": [
       "1\n",
       "─\n",
       "n"
      ]
     },
     "metadata": {},
     "output_type": "display_data"
    }
   ],
   "source": [
    "h = 1/n"
   ]
  },
  {
   "cell_type": "code",
   "execution_count": 4,
   "metadata": {},
   "outputs": [
    {
     "data": {
      "text/plain": [
       "x_ihalf (generic function with 1 method)"
      ]
     },
     "metadata": {},
     "output_type": "display_data"
    }
   ],
   "source": [
    "x_i(i) = (i - 1)*h\n",
    "x_ihalf(i) = x_i(i) + h/2"
   ]
  },
  {
   "cell_type": "code",
   "execution_count": 5,
   "metadata": {},
   "outputs": [
    {
     "data": {
      "text/plain": [
       "xoffset_ihalf (generic function with 1 method)"
      ]
     },
     "metadata": {},
     "output_type": "display_data"
    }
   ],
   "source": [
    "xoffset_i(i) = (x-x_i(i))/h\n",
    "xoffset_ihalf(i) = (x-x_ihalf(i))/h"
   ]
  },
  {
   "cell_type": "code",
   "execution_count": 6,
   "metadata": {},
   "outputs": [
    {
     "data": {
      "text/latex": [
       "$1 - 4 x^{2}$"
      ],
      "text/plain": [
       "       2\n",
       "1 - 4⋅x "
      ]
     },
     "metadata": {},
     "output_type": "display_data"
    }
   ],
   "source": [
    "leftarm = (1+x)*(1+2x)\n",
    "rightarm = (1-x)*(1-2x)\n",
    "cap = 1-4x^2"
   ]
  },
  {
   "cell_type": "code",
   "execution_count": 7,
   "metadata": {},
   "outputs": [
    {
     "data": {
      "text/plain": [
       "cap_jhalf (generic function with 1 method)"
      ]
     },
     "metadata": {},
     "output_type": "display_data"
    }
   ],
   "source": [
    "leftarm_i(i) = leftarm(xoffset_i(i))\n",
    "rightarm_i(i) = rightarm(xoffset_i(i))\n",
    "cap_jhalf(i) = cap(xoffset_ihalf(i))"
   ]
  },
  {
   "cell_type": "code",
   "execution_count": 8,
   "metadata": {},
   "outputs": [
    {
     "data": {
      "text/latex": [
       "$\\frac{1}{15 n}$"
      ],
      "text/plain": [
       " 1  \n",
       "────\n",
       "15⋅n"
      ]
     },
     "metadata": {},
     "output_type": "display_data"
    }
   ],
   "source": [
    "cap_with_arm = simplify(integrate(rightarm_i(j)*cap_jhalf(j), (x, x_i(j), x_i(j+1))))"
   ]
  },
  {
   "cell_type": "code",
   "execution_count": 9,
   "metadata": {},
   "outputs": [
    {
     "data": {
      "text/latex": [
       "$\\frac{8}{15 n}$"
      ],
      "text/plain": [
       " 8  \n",
       "────\n",
       "15⋅n"
      ]
     },
     "metadata": {},
     "output_type": "display_data"
    }
   ],
   "source": [
    "cap_with_cap = simplify(integrate(cap_jhalf(j)*cap_jhalf(j), (x, x_i(j), x_i(j+1))))"
   ]
  },
  {
   "cell_type": "code",
   "execution_count": 10,
   "metadata": {},
   "outputs": [
    {
     "data": {
      "text/latex": [
       "$- \\frac{1}{30 n}$"
      ],
      "text/plain": [
       "-1  \n",
       "────\n",
       "30⋅n"
      ]
     },
     "metadata": {},
     "output_type": "display_data"
    }
   ],
   "source": [
    "larm_with_rarm = simplify(integrate(rightarm_i(j)*leftarm_i(j+1), (x, x_i(j), x_i(j+1))))"
   ]
  },
  {
   "cell_type": "code",
   "execution_count": 11,
   "metadata": {},
   "outputs": [
    {
     "data": {
      "text/latex": [
       "$\\frac{4}{15 n}$"
      ],
      "text/plain": [
       " 4  \n",
       "────\n",
       "15⋅n"
      ]
     },
     "metadata": {},
     "output_type": "display_data"
    }
   ],
   "source": [
    "leftarm_with_leftarm = simplify(integrate(leftarm_i(j)*leftarm_i(j), (x, x_i(j-1), x_i(j))))\n",
    "fullbody = leftarm_with_leftarm*2"
   ]
  },
  {
   "cell_type": "code",
   "execution_count": 12,
   "metadata": {},
   "outputs": [
    {
     "data": {
      "text/plain": [
       "dcap_jhalf (generic function with 1 method)"
      ]
     },
     "metadata": {},
     "output_type": "display_data"
    }
   ],
   "source": [
    "dleftarm_i(i) = diff(leftarm_i(i), x)\n",
    "drigtharm_i(i) = diff(rightarm_i(i), x)\n",
    "dcap_jhalf(i) = diff(cap_jhalf(i), x)"
   ]
  },
  {
   "cell_type": "code",
   "execution_count": 13,
   "metadata": {},
   "outputs": [
    {
     "data": {
      "text/latex": [
       "$- \\frac{8 n}{3}$"
      ],
      "text/plain": [
       "-8⋅n \n",
       "─────\n",
       "  3  "
      ]
     },
     "metadata": {},
     "output_type": "display_data"
    }
   ],
   "source": [
    "dcap_with_darm = simplify(integrate(drigtharm_i(j)*dcap_jhalf(j), (x, x_i(j), x_i(j+1))))"
   ]
  },
  {
   "cell_type": "code",
   "execution_count": 14,
   "metadata": {},
   "outputs": [
    {
     "data": {
      "text/latex": [
       "$\\frac{16 n}{3}$"
      ],
      "text/plain": [
       "16⋅n\n",
       "────\n",
       " 3  "
      ]
     },
     "metadata": {},
     "output_type": "display_data"
    }
   ],
   "source": [
    "dcap_with_dcap = simplify(integrate(dcap_jhalf(j)*dcap_jhalf(j), (x, x_i(j), x_i(j+1))))"
   ]
  },
  {
   "cell_type": "code",
   "execution_count": 15,
   "metadata": {},
   "outputs": [
    {
     "data": {
      "text/latex": [
       "$\\frac{n}{3}$"
      ],
      "text/plain": [
       "n\n",
       "─\n",
       "3"
      ]
     },
     "metadata": {},
     "output_type": "display_data"
    }
   ],
   "source": [
    "dlarm_with_drarm = simplify(integrate(drigtharm_i(j)*dleftarm_i(j+1), (x, x_i(j), x_i(j+1))))"
   ]
  },
  {
   "cell_type": "code",
   "execution_count": 16,
   "metadata": {},
   "outputs": [
    {
     "data": {
      "text/latex": [
       "$\\frac{14 n}{3}$"
      ],
      "text/plain": [
       "14⋅n\n",
       "────\n",
       " 3  "
      ]
     },
     "metadata": {},
     "output_type": "display_data"
    }
   ],
   "source": [
    "dleftarm_with_dleftarm = simplify(integrate(dleftarm_i(j)*dleftarm_i(j), (x, x_i(j-1), x_i(j))))\n",
    "dfullbody = dleftarm_with_dleftarm*2"
   ]
  }
 ],
 "metadata": {
  "kernelspec": {
   "display_name": "Julia 1.9.0",
   "language": "julia",
   "name": "julia-1.9"
  },
  "language_info": {
   "file_extension": ".jl",
   "mimetype": "application/julia",
   "name": "julia",
   "version": "1.9.0"
  },
  "orig_nbformat": 4
 },
 "nbformat": 4,
 "nbformat_minor": 2
}
