{
 "cells": [
  {
   "attachments": {},
   "cell_type": "markdown",
   "metadata": {},
   "source": [
    "# Perceptron Logic Gates Classification"
   ]
  },
  {
   "cell_type": "code",
   "execution_count": 85,
   "metadata": {},
   "outputs": [],
   "source": [
    "import numpy as np\n",
    "import matplotlib.pyplot as plt"
   ]
  },
  {
   "cell_type": "code",
   "execution_count": 86,
   "metadata": {},
   "outputs": [],
   "source": [
    "#step function \n",
    "def step (net):\n",
    "    if net >= 0:\n",
    "        return 1\n",
    "    else:\n",
    "        return 0"
   ]
  },
  {
   "cell_type": "code",
   "execution_count": 87,
   "metadata": {},
   "outputs": [],
   "source": [
    "def perceptron(x, w1, w2, theta, out, n, ln):\n",
    "    vals = []\n",
    "    error = np.array([0,0,0,0])\n",
    "    t = 1\n",
    "    E = 100\n",
    "    y = 0\n",
    "    \n",
    "    while t < n:\n",
    "        for i in range(len(x)):\n",
    "            v = np.dot(np.array([w1,w2]), x[i]) + theta\n",
    "            y = step(v)\n",
    "            error[i] = out[i] - y\n",
    "            w1 = w1 + ln * error[i] * x[i][0]\n",
    "            w_2 = w2 + ln * error[i] * x[i][1]\n",
    "            theta = theta + ln*error[i]\n",
    "        vals.append([w1, w2, theta])\n",
    "        E = np.sum(error)\n",
    "        t += 1\n",
    "    return y, vals\n"
   ]
  },
  {
   "attachments": {},
   "cell_type": "markdown",
   "metadata": {},
   "source": [
    "## AND logic gate"
   ]
  },
  {
   "cell_type": "code",
   "execution_count": 88,
   "metadata": {},
   "outputs": [],
   "source": [
    "x = [ [0,0], [0,1], [1,0], [1,1]]\n",
    "x_array = np.asarray(x)\n",
    "ipt = [[0,0,1,1],[0,1,0,1]] # for plotting\n",
    "ipt = np.array(ipt) # for plotting\n",
    "# expected outputs\n",
    "out = x_array[:, 1] * x_array[:, 0]\n",
    "w = np.random.rand(1,3)\n",
    "w1 = w[0][0]\n",
    "w2 = w[0][1]\n",
    "theta = w[0][2]\n",
    "\n",
    "y, vals = perceptron(x, w1, w2, theta, out, n=10000, ln=0.01)"
   ]
  },
  {
   "cell_type": "code",
   "execution_count": 89,
   "metadata": {},
   "outputs": [
    {
     "data": {
      "text/plain": [
       "[<matplotlib.lines.Line2D at 0x121aae470>]"
      ]
     },
     "execution_count": 89,
     "metadata": {},
     "output_type": "execute_result"
    },
    {
     "data": {
      "image/png": "[encoded data removed]",
      "text/plain": [
       "<Figure size 432x288 with 1 Axes>"
      ]
     },
     "metadata": {
      "needs_background": "light"
     },
     "output_type": "display_data"
    }
   ],
   "source": [
    "for i in range(ipt[0].size):\n",
    "    if ipt[0][i] * ipt[1][i] == 0:\n",
    "        plt.scatter(ipt[0][i], ipt[1][i], c=\"blue\")\n",
    "    else:\n",
    "        plt.scatter(ipt[0][i], ipt[1][i], c=\"red\")\n",
    "\n",
    "# Initial line\n",
    "x_data = np.array([0.0, 1.0])\n",
    "y_data = -(x_data*w1)/w2 - theta/w2\n",
    "#plt.plot(x_data, y_data)\n",
    "# last line\n",
    "w1 = vals[-1][0]\n",
    "w2 = vals[-1][1]\n",
    "theta = vals[-1][2]\n",
    "y_data = -(x_data*w1)/w2 - theta/w2\n",
    "plt.plot(x_data, y_data)"
   ]
  },
  {
   "attachments": {},
   "cell_type": "markdown",
   "metadata": {},
   "source": [
    "## OR logic door"
   ]
  },
  {
   "cell_type": "code",
   "execution_count": 90,
   "metadata": {},
   "outputs": [],
   "source": [
    "x = [ [0,0], [0,1], [1,0], [1,1]]\n",
    "x_array = np.asarray(x)\n",
    "ipt = [[0,0,1,1],[0,1,0,1]] # for plotting\n",
    "ipt = np.array(ipt) # for plotting\n",
    "# expected outputs\n",
    "out = np.array([0,1,1,1])\n",
    "w = np.random.rand(1,3) * 10\n",
    "w1 = w[0][0]\n",
    "w2 = w[0][1]\n",
    "theta = w[0][2]\n",
    "\n",
    "y, vals = perceptron(x, w1, w2, theta, out, n=10000, ln=0.01)"
   ]
  },
  {
   "cell_type": "code",
   "execution_count": 91,
   "metadata": {},
   "outputs": [
    {
     "data": {
      "text/plain": [
       "[<matplotlib.lines.Line2D at 0x1195e6140>]"
      ]
     },
     "execution_count": 91,
     "metadata": {},
     "output_type": "execute_result"
    },
    {
     "data": {
      "image/png": "[encoded data removed]",
      "text/plain": [
       "<Figure size 432x288 with 1 Axes>"
      ]
     },
     "metadata": {
      "needs_background": "light"
     },
     "output_type": "display_data"
    }
   ],
   "source": [
    "for i in range(ipt[0].size):\n",
    "    if out[i] == 1:\n",
    "        plt.scatter(ipt[0][i], ipt[1][i], c=\"blue\")\n",
    "    else:\n",
    "        plt.scatter(ipt[0][i], ipt[1][i], c=\"red\")\n",
    "\n",
    "# Initial line\n",
    "x_data = np.array([0.0, 1.0])\n",
    "y_data = -(x_data*w1)/w2 - theta/w2\n",
    "#plt.plot(x_data, y_data)\n",
    "# last line\n",
    "w1 = vals[-1][0]\n",
    "w2 = vals[-1][1]\n",
    "theta = vals[-1][2]\n",
    "y_data = -(x_data*w1)/w2 - theta/w2\n",
    "plt.plot(x_data, y_data)"
   ]
  },
  {
   "attachments": {},
   "cell_type": "markdown",
   "metadata": {},
   "source": [
    "## XOR logic door"
   ]
  },
  {
   "cell_type": "code",
   "execution_count": 92,
   "metadata": {},
   "outputs": [],
   "source": [
    "x = [ [0,0], [0,1], [1,0], [1,1]]\n",
    "x_array = np.asarray(x)\n",
    "ipt = [[0,0,1,1],[0,1,0,1]] # for plotting\n",
    "ipt = np.array(ipt) # for plotting\n",
    "# expected outputs\n",
    "out = np.array([0,1,1,0])\n",
    "w = np.random.rand(1,3) * 10\n",
    "w1 = w[0][0]\n",
    "w2 = w[0][1]\n",
    "theta = w[0][2]\n",
    "\n",
    "y, vals = perceptron(x, w1, w2, theta, out, n=1000, ln=0.01)"
   ]
  },
  {
   "cell_type": "code",
   "execution_count": 93,
   "metadata": {},
   "outputs": [
    {
     "data": {
      "text/plain": [
       "[<matplotlib.lines.Line2D at 0x11967f250>]"
      ]
     },
     "execution_count": 93,
     "metadata": {},
     "output_type": "execute_result"
    },
    {
     "data": {
      "image/png": "[encoded data removed]",
      "text/plain": [
       "<Figure size 432x288 with 1 Axes>"
      ]
     },
     "metadata": {
      "needs_background": "light"
     },
     "output_type": "display_data"
    }
   ],
   "source": [
    "for i in range(ipt[0].size):\n",
    "    if out[i] == 1:\n",
    "        plt.scatter(ipt[0][i], ipt[1][i], c=\"blue\")\n",
    "    else:\n",
    "        plt.scatter(ipt[0][i], ipt[1][i], c=\"red\")\n",
    "\n",
    "# Initial line\n",
    "x_data = np.array([0.0, 1.0])\n",
    "y_data = -(x_data*w1)/w2 - theta/w2\n",
    "#plt.plot(x_data, y_data)\n",
    "# last line\n",
    "w1 = vals[-1][0]\n",
    "w2 = vals[-1][1]\n",
    "theta = vals[-1][2]\n",
    "y_data = -(x_data*w1)/w2 - theta/w2\n",
    "plt.plot(x_data, y_data)"
   ]
  }
 ],
 "metadata": {
  "kernelspec": {
   "display_name": "Python 3",
   "language": "python",
   "name": "python3"
  },
  "language_info": {
   "codemirror_mode": {
    "name": "ipython",
    "version": 3
   },
   "file_extension": ".py",
   "mimetype": "text/x-python",
   "name": "python",
   "nbconvert_exporter": "python",
   "pygments_lexer": "ipython3",
   "version": "3.10.2"
  },
  "orig_nbformat": 4,
  "vscode": {
   "interpreter": {
    "hash": "0ed17916cfe6f9c87218e6dae1b9cc0f032f6e36f680b2e47ca8c8872f167137"
   }
  }
 },
 "nbformat": 4,
 "nbformat_minor": 2
}
