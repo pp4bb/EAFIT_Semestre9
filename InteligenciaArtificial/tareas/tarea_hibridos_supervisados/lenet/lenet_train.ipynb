{
 "cells": [
  {
   "cell_type": "code",
   "execution_count": 1,
   "metadata": {},
   "outputs": [
    {
     "name": "stderr",
     "output_type": "stream",
     "text": [
      "/home/juan/.local/lib/python3.10/site-packages/tqdm/auto.py:21: TqdmWarning: IProgress not found. Please update jupyter and ipywidgets. See https://ipywidgets.readthedocs.io/en/stable/user_install.html\n",
      "  from .autonotebook import tqdm as notebook_tqdm\n"
     ]
    }
   ],
   "source": [
    "from lenet import IDXLeNetDataset, LeNet5\n",
    "from torch.utils.data import DataLoader\n",
    "import torch\n",
    "import wandb\n",
    "import matplotlib.pyplot as plt\n",
    "# Test the model on our own MNIST dataset\n",
    "from lenet import OurMNISTDataset"
   ]
  },
  {
   "cell_type": "code",
   "execution_count": 2,
   "metadata": {},
   "outputs": [],
   "source": [
    "bs = 4096"
   ]
  },
  {
   "cell_type": "code",
   "execution_count": 3,
   "metadata": {},
   "outputs": [],
   "source": [
    "train_dataset = IDXLeNetDataset(\"data/train-images-idx3-ubyte\", \"data/train-labels-idx1-ubyte\", padding=2) \n",
    "train_loader = DataLoader(train_dataset, batch_size=bs, shuffle=True)\n",
    "\n",
    "test_dataset = IDXLeNetDataset(\"data/t10k-images-idx3-ubyte\", \"data/t10k-labels-idx1-ubyte\", padding=2)\n",
    "test_loader = DataLoader(test_dataset, batch_size=bs, shuffle=True)\n",
    "\n",
    "our_dataset = OurMNISTDataset(padding=0)\n",
    "our_loader = DataLoader(our_dataset, batch_size=1, shuffle=True)"
   ]
  },
  {
   "cell_type": "code",
   "execution_count": 4,
   "metadata": {},
   "outputs": [
    {
     "name": "stderr",
     "output_type": "stream",
     "text": [
      "Failed to detect the name of this notebook, you can set it manually with the WANDB_NOTEBOOK_NAME environment variable to enable code saving.\n",
      "\u001b[34m\u001b[1mwandb\u001b[0m: Currently logged in as: \u001b[33mjpossaz\u001b[0m. Use \u001b[1m`wandb login --relogin`\u001b[0m to force relogin\n"
     ]
    },
    {
     "data": {
      "text/html": [
       "Tracking run with wandb version 0.13.11"
      ],
      "text/plain": [
       "<IPython.core.display.HTML object>"
      ]
     },
     "metadata": {},
     "output_type": "display_data"
    },
    {
     "data": {
      "text/html": [
       "Run data is saved locally in <code>/mnt/secondary/projects/ia-eafit/lenet/wandb/run-20230312_191646-05zh38dm</code>"
      ],
      "text/plain": [
       "<IPython.core.display.HTML object>"
      ]
     },
     "metadata": {},
     "output_type": "display_data"
    },
    {
     "data": {
      "text/html": [
       "Syncing run <strong><a href='https://wandb.ai/jpossaz/lenet/runs/05zh38dm' target=\"_blank\">splendid-feather-22</a></strong> to <a href='https://wandb.ai/jpossaz/lenet' target=\"_blank\">Weights & Biases</a> (<a href='https://wandb.me/run' target=\"_blank\">docs</a>)<br/>"
      ],
      "text/plain": [
       "<IPython.core.display.HTML object>"
      ]
     },
     "metadata": {},
     "output_type": "display_data"
    },
    {
     "data": {
      "text/html": [
       " View project at <a href='https://wandb.ai/jpossaz/lenet' target=\"_blank\">https://wandb.ai/jpossaz/lenet</a>"
      ],
      "text/plain": [
       "<IPython.core.display.HTML object>"
      ]
     },
     "metadata": {},
     "output_type": "display_data"
    },
    {
     "data": {
      "text/html": [
       " View run at <a href='https://wandb.ai/jpossaz/lenet/runs/05zh38dm' target=\"_blank\">https://wandb.ai/jpossaz/lenet/runs/05zh38dm</a>"
      ],
      "text/plain": [
       "<IPython.core.display.HTML object>"
      ]
     },
     "metadata": {},
     "output_type": "display_data"
    },
    {
     "data": {
      "text/html": [
       "Waiting for W&B process to finish... <strong style=\"color:green\">(success).</strong>"
      ],
      "text/plain": [
       "<IPython.core.display.HTML object>"
      ]
     },
     "metadata": {},
     "output_type": "display_data"
    },
    {
     "data": {
      "text/html": [
       "<style>\n",
       "    table.wandb td:nth-child(1) { padding: 0 10px; text-align: left ; width: auto;} td:nth-child(2) {text-align: left ; width: 100%}\n",
       "    .wandb-row { display: flex; flex-direction: row; flex-wrap: wrap; justify-content: flex-start; width: 100% }\n",
       "    .wandb-col { display: flex; flex-direction: column; flex-basis: 100%; flex: 1; padding: 10px; }\n",
       "    </style>\n",
       "<div class=\"wandb-row\"><div class=\"wandb-col\"><h3>Run history:</h3><br/><table class=\"wandb\"><tr><td>accuracy</td><td>▁▅▆▇▇▇▇▇████████████████████████████████</td></tr><tr><td>loss</td><td>█▇▄▂▂▂▂▂▁▁▁▁▁▁▁▁▁▁▁▁▁▁▁▁▁▁▁▁▁▁▁▁▁▁▁▁▁▁▁▁</td></tr><tr><td>our_mnist_accuracy</td><td>▂▃▂▂▂▂▁▁▂▁▁▃▂▃▄▅▅▅▅▆▅▆▆▆▆▆▆▆▆▆▆▇▇▇▇███▇▇</td></tr><tr><td>our_mnist_loss</td><td>▂▁▆▆▅▆▆█▆▇█▆▆▅▆▆▅▅▆▅▆▆▅▅▅▅▅▆▆▆▅▅▆▅▅▅▅▅▆▆</td></tr><tr><td>test_loss</td><td>█▄▃▂▂▂▂▁▁▁▁▁▁▁▁▁▁▁▁▁▁▁▁▁▁▁▁▁▁▁▁▁▁▁▁▁▁▁▁▁</td></tr></table><br/></div><div class=\"wandb-col\"><h3>Run summary:</h3><br/><table class=\"wandb\"><tr><td>accuracy</td><td>98.39</td></tr><tr><td>loss</td><td>1e-05</td></tr><tr><td>our_mnist_accuracy</td><td>34.0</td></tr><tr><td>our_mnist_loss</td><td>3.15889</td></tr><tr><td>test_loss</td><td>1e-05</td></tr></table><br/></div></div>"
      ],
      "text/plain": [
       "<IPython.core.display.HTML object>"
      ]
     },
     "metadata": {},
     "output_type": "display_data"
    },
    {
     "data": {
      "text/html": [
       " View run <strong style=\"color:#cdcd00\">splendid-feather-22</strong> at: <a href='https://wandb.ai/jpossaz/lenet/runs/05zh38dm' target=\"_blank\">https://wandb.ai/jpossaz/lenet/runs/05zh38dm</a><br/>Synced 4 W&B file(s), 1320 media file(s), 0 artifact file(s) and 0 other file(s)"
      ],
      "text/plain": [
       "<IPython.core.display.HTML object>"
      ]
     },
     "metadata": {},
     "output_type": "display_data"
    },
    {
     "data": {
      "text/html": [
       "Find logs at: <code>./wandb/run-20230312_191646-05zh38dm/logs</code>"
      ],
      "text/plain": [
       "<IPython.core.display.HTML object>"
      ]
     },
     "metadata": {},
     "output_type": "display_data"
    }
   ],
   "source": [
    "model = LeNet5().to(\"cuda\")\n",
    "lr = 0.001\n",
    "epochs = 40\n",
    "\n",
    "\n",
    "# Cross Entropy Loss\n",
    "criterion = torch.nn.CrossEntropyLoss()\n",
    "\n",
    "# Optimizer\n",
    "optimizer = torch.optim.Adam(model.parameters(), lr=0.001)\n",
    "\n",
    "wandb.init(project=\"lenet\", config={\"learning_rate\": lr, \"epochs\": epochs, \"batch_size\": bs}, entity=\"jpossaz\")\n",
    "\n",
    "wandb.watch(model, log=\"all\", criterion=criterion)\n",
    "\n",
    "for epoch in range(epochs):\n",
    "\n",
    "    for batch_idx, (data, target) in enumerate(train_loader):\n",
    "        data, target = data.to(\"cuda\"), target.to(\"cuda\")\n",
    "        optimizer.zero_grad()\n",
    "        logits, probas = model(data)\n",
    "        loss = criterion(logits, target) / bs\n",
    "        loss.backward()\n",
    "        optimizer.step()\n",
    "\n",
    "        wandb.log({\"loss\": loss.item()})\n",
    "\n",
    "    test_loss = 0\n",
    "    correct = 0\n",
    "    with torch.no_grad():\n",
    "        for data, target in test_loader:\n",
    "            data, target = data.to(\"cuda\"), target.to(\"cuda\")\n",
    "            logits, probas = model(data)\n",
    "            test_loss += criterion(logits, target).item() # sum up batch loss\n",
    "            pred = probas.argmax(dim=1, keepdim=True) # get the index of the max log-probability\n",
    "            correct += pred.eq(target.view_as(pred)).sum().item()\n",
    "\n",
    "    test_loss /= len(test_dataset)\n",
    "    accuracy = 100. * correct / len(test_dataset)\n",
    "\n",
    "    wandb.log({\"test_loss\": test_loss, \"accuracy\": accuracy})\n",
    "\n",
    "    # Visualize convolutional filters\n",
    "    filters = model.conv1.weight.data.cpu().numpy() # shape: (6, 1, 5, 5)\n",
    "    wandb.log({\"conv1\": [wandb.Image(filters[i,0,:,:]) for i in range(filters.shape[0])]})\n",
    "\n",
    "    # Now for conv2\n",
    "    filters = model.conv2.weight.data.cpu().numpy()\n",
    "    wandb.log({\"conv2\": [wandb.Image(filters[i,0,:,:]) for i in range(filters.shape[0])]})\n",
    "\n",
    "    test_loss = 0\n",
    "    correct = 0\n",
    "\n",
    "    images = []\n",
    "    with torch.no_grad():\n",
    "        for i, (data, target) in enumerate(our_loader):\n",
    "            \n",
    "            data, target = data.to(\"cuda\"), target.to(\"cuda\")\n",
    "            logits, probas = model(data)\n",
    "            test_loss += criterion(logits, target).item() # sum up batch loss\n",
    "            pred = probas.argmax(dim=1, keepdim=True) # get the index of the max log-probability\n",
    "            correct += pred.eq(target.view_as(pred)).sum().item()\n",
    "\n",
    "            if i > 10:\n",
    "                continue\n",
    "\n",
    "            # Make a matpliotlib figure with the probability distribution\n",
    "            # and the title as the target, and also show the image\n",
    "            fig, ax = plt.subplots(1, 2, figsize=(5, 2.5))\n",
    "            ax[0].imshow(data[0,0,:,:].cpu().numpy())\n",
    "            ax[1].bar(range(10), probas[0,:].cpu().numpy())\n",
    "            ax[1].set_xticks(range(10))\n",
    "            ax[1].set_title(f\"Target: {target.item()}\")\n",
    "\n",
    "            images.append(wandb.Image(fig))\n",
    "\n",
    "            plt.close(fig)\n",
    "\n",
    "    wandb.log({\"our_mnist_predictions\": images})\n",
    "\n",
    "    test_loss /= len(our_dataset)\n",
    "    accuracy = 100. * correct / len(our_dataset)\n",
    "\n",
    "    wandb.log({\"our_mnist_loss\": test_loss, \"our_mnist_accuracy\": accuracy})\n",
    "\n",
    "wandb.finish()"
   ]
  }
 ],
 "metadata": {
  "kernelspec": {
   "display_name": "Python 3",
   "language": "python",
   "name": "python3"
  },
  "language_info": {
   "codemirror_mode": {
    "name": "ipython",
    "version": 3
   },
   "file_extension": ".py",
   "mimetype": "text/x-python",
   "name": "python",
   "nbconvert_exporter": "python",
   "pygments_lexer": "ipython3",
   "version": "3.10.9"
  },
  "orig_nbformat": 4
 },
 "nbformat": 4,
 "nbformat_minor": 2
}
