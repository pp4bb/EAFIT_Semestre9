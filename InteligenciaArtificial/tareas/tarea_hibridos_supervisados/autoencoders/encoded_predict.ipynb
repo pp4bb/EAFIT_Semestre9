{
 "cells": [
  {
   "cell_type": "code",
   "execution_count": 1,
   "metadata": {},
   "outputs": [],
   "source": [
    "import torch\n",
    "from torch.utils.data import DataLoader, Dataset\n",
    "import pandas as pd\n",
    "\n",
    "class TrainDataset(Dataset):\n",
    "    def __init__(self, csv_file, num_features):\n",
    "        self.data = pd.read_csv(csv_file)\n",
    "        self.num_features = num_features\n",
    "\n",
    "    def __len__(self):\n",
    "        return 1\n",
    "\n",
    "    def __getitem__(self, idx):\n",
    "        #features = self.data.iloc[idx, 1:].values.astype(float)\n",
    "        # Get the features from columns x1 to xN\n",
    "        col_names = [\"x\" + str(i) for i in range(1, self.num_features + 1)]\n",
    "        features = self.data[col_names].values.astype(float)\n",
    "        feature_names = [\"Deposit\", \"Harvest\", \"Lock\", \"Unlock\", \"Withdraw\"]\n",
    "        labels = self.data[feature_names].values.astype(float)\n",
    "        return torch.tensor(features), torch.tensor(labels)\n",
    "\n",
    "base_path = \"expansión/\"\n",
    "num_features = 8\n",
    "\n",
    "train_dataset = TrainDataset(base_path + \"traindata.csv\", num_features)\n",
    "train_dataloader = DataLoader(train_dataset, batch_size=None, shuffle=False)\n",
    "\n",
    "test_dataset = TrainDataset(base_path + \"testdata.csv\", num_features)\n",
    "test_dataloader = DataLoader(test_dataset, batch_size=None, shuffle=False)\n",
    "\n",
    "val_dataset = TrainDataset(base_path + \"validationdata.csv\", num_features)\n",
    "val_dataloader = DataLoader(val_dataset, batch_size=None, shuffle=False)"
   ]
  },
  {
   "cell_type": "code",
   "execution_count": 2,
   "metadata": {},
   "outputs": [],
   "source": [
    "import torch.nn as nn\n",
    "\n",
    "class MLP(nn.Module):\n",
    "    def __init__(self, input_size, hidden_sizes, output_size, activation_func):\n",
    "        super(MLP, self).__init__()\n",
    "        self.input_size = input_size\n",
    "        self.output_size = output_size\n",
    "        self.activation_func = activation_func\n",
    "        \n",
    "        layers = []\n",
    "        prev_size = input_size\n",
    "        for size in hidden_sizes:\n",
    "            layers.append(nn.Linear(prev_size, size))\n",
    "            if activation_func != nn.Linear:\n",
    "                layers.append(activation_func())\n",
    "            prev_size = size\n",
    "        layers.append(nn.Linear(prev_size, output_size))\n",
    "        self.model = nn.Sequential(*layers)\n",
    "\n",
    "    def forward(self, x):\n",
    "        return self.model(x)"
   ]
  },
  {
   "cell_type": "code",
   "execution_count": 3,
   "metadata": {},
   "outputs": [],
   "source": [
    "hidden_size_configs = [4,5,6,7,8]\n",
    "activation_func_configs = [nn.ReLU, nn.Tanh, nn.Sigmoid, nn.Linear]\n",
    "learning_rate_configs = [0.2,0.3,0.4,0.5]\n",
    "num_layers_configs = [1,2,3,4]\n",
    "\n",
    "from itertools import product\n",
    "\n",
    "all_configs = list(product(hidden_size_configs, activation_func_configs, \n",
    "                            learning_rate_configs, num_layers_configs))\n"
   ]
  },
  {
   "cell_type": "code",
   "execution_count": 4,
   "metadata": {},
   "outputs": [],
   "source": [
    "def do_run(hidden_size, activation_func, learning_rate, num_layers):\n",
    "\n",
    "    import wandb\n",
    "\n",
    "    run_name = (f\"{hidden_size}hs{activation_func.__name__}ac{learning_rate}lr\"\n",
    "                f\"{num_layers}nl\")\n",
    "\n",
    "    run = wandb.init(project=\"encoded_predict\", name=run_name, entity=\"jpossaz\",\n",
    "                config={\n",
    "                    \"hidden_size\": hidden_size,\n",
    "                    \"activation_func\": activation_func.__name__,\n",
    "                    \"learning_rate\": learning_rate,\n",
    "                    \"num_layers\": num_layers,\n",
    "                    \"num_features\": num_features,\n",
    "                    \"base_path\": base_path,\n",
    "                    \"train_dataset_class\": train_dataset.__class__.__name__,\n",
    "                    })\n",
    "\n",
    "    input_size = num_features\n",
    "    output_size = 5\n",
    "    hidden_sizes = [hidden_size]\n",
    "    activation_func = activation_func\n",
    "    model = MLP(input_size, hidden_sizes, output_size, activation_func)\n",
    "    # Convert to same dtype as the data\n",
    "    model = model.double()\n",
    "\n",
    "    epochs = 50\n",
    "\n",
    "    criterion = nn.CrossEntropyLoss()\n",
    "    optimizer = torch.optim.Adam(model.parameters(), lr=learning_rate)\n",
    "\n",
    "    for epoch in range(epochs):\n",
    "\n",
    "        total_loss = torch.tensor(0.0)\n",
    "        for x_train, y_train in train_dataloader:\n",
    "            optimizer.zero_grad()\n",
    "            output = model(x_train)\n",
    "            total_loss += criterion(output, y_train.argmax(dim=1))\n",
    "\n",
    "        total_loss /= len(train_dataloader)\n",
    "        total_loss.backward()\n",
    "        optimizer.step()\n",
    "\n",
    "        with torch.no_grad():\n",
    "            train_loss = 0\n",
    "            for x_train, y_train in train_dataloader:\n",
    "                output = model(x_train)\n",
    "                train_loss += criterion(output, y_train.argmax(dim=1))\n",
    "            train_loss /= len(train_dataloader)\n",
    "\n",
    "            test_loss = 0\n",
    "            for x_test, y_test in test_dataloader:\n",
    "                output = model(x_test)\n",
    "                test_loss += criterion(output, y_test.argmax(dim=1))\n",
    "            test_loss /= len(test_dataloader)\n",
    "\n",
    "            # Log metrics to W&B\n",
    "            wandb.log({\n",
    "                \"epoch\": epoch,\n",
    "                \"train_loss\": train_loss,\n",
    "                \"test_loss\": test_loss\n",
    "            })\n",
    "        \n",
    "    # Close the run\n",
    "    wandb.finish()\n",
    "    return model"
   ]
  },
  {
   "cell_type": "code",
   "execution_count": 5,
   "metadata": {},
   "outputs": [
    {
     "data": {
      "text/plain": [
       "'\\n\\nfrom joblib import Parallel, delayed\\n\\ntasks = [\\n    delayed(do_run)(hidden_size, activation_func, learning_rate, num_layers)\\n    for hidden_size, activation_func, learning_rate, num_layers in all_configs\\n]\\n\\n# Parallel with very verbose output \\nParallel(n_jobs=8, verbose=10)(tasks)\\n'"
      ]
     },
     "execution_count": 5,
     "metadata": {},
     "output_type": "execute_result"
    }
   ],
   "source": [
    "\"\"\"\n",
    "\n",
    "from joblib import Parallel, delayed\n",
    "\n",
    "tasks = [\n",
    "    delayed(do_run)(hidden_size, activation_func, learning_rate, num_layers)\n",
    "    for hidden_size, activation_func, learning_rate, num_layers in all_configs\n",
    "]\n",
    "\n",
    "# Parallel with very verbose output \n",
    "Parallel(n_jobs=8, verbose=10)(tasks)\n",
    "\"\"\""
   ]
  },
  {
   "cell_type": "code",
   "execution_count": 6,
   "metadata": {},
   "outputs": [
    {
     "name": "stderr",
     "output_type": "stream",
     "text": [
      "Failed to detect the name of this notebook, you can set it manually with the WANDB_NOTEBOOK_NAME environment variable to enable code saving.\n",
      "\u001b[34m\u001b[1mwandb\u001b[0m: Currently logged in as: \u001b[33mjpossaz\u001b[0m. Use \u001b[1m`wandb login --relogin`\u001b[0m to force relogin\n"
     ]
    },
    {
     "data": {
      "text/html": [
       "wandb version 0.14.0 is available!  To upgrade, please run:\n",
       " $ pip install wandb --upgrade"
      ],
      "text/plain": [
       "<IPython.core.display.HTML object>"
      ]
     },
     "metadata": {},
     "output_type": "display_data"
    },
    {
     "data": {
      "text/html": [
       "Tracking run with wandb version 0.13.10"
      ],
      "text/plain": [
       "<IPython.core.display.HTML object>"
      ]
     },
     "metadata": {},
     "output_type": "display_data"
    },
    {
     "data": {
      "text/html": [
       "Run data is saved locally in <code>/home/juan/Projects/neural_nets/autoencoders/wandb/run-20230316_134750-0nf2b4cx</code>"
      ],
      "text/plain": [
       "<IPython.core.display.HTML object>"
      ]
     },
     "metadata": {},
     "output_type": "display_data"
    },
    {
     "data": {
      "text/html": [
       "Syncing run <strong><a href='https://wandb.ai/jpossaz/encoded_predict/runs/0nf2b4cx' target=\"_blank\">8hsSigmoidac0.5lr1nl</a></strong> to <a href='https://wandb.ai/jpossaz/encoded_predict' target=\"_blank\">Weights & Biases</a> (<a href='https://wandb.me/run' target=\"_blank\">docs</a>)<br/>"
      ],
      "text/plain": [
       "<IPython.core.display.HTML object>"
      ]
     },
     "metadata": {},
     "output_type": "display_data"
    },
    {
     "data": {
      "text/html": [
       " View project at <a href='https://wandb.ai/jpossaz/encoded_predict' target=\"_blank\">https://wandb.ai/jpossaz/encoded_predict</a>"
      ],
      "text/plain": [
       "<IPython.core.display.HTML object>"
      ]
     },
     "metadata": {},
     "output_type": "display_data"
    },
    {
     "data": {
      "text/html": [
       " View run at <a href='https://wandb.ai/jpossaz/encoded_predict/runs/0nf2b4cx' target=\"_blank\">https://wandb.ai/jpossaz/encoded_predict/runs/0nf2b4cx</a>"
      ],
      "text/plain": [
       "<IPython.core.display.HTML object>"
      ]
     },
     "metadata": {},
     "output_type": "display_data"
    },
    {
     "data": {
      "text/html": [
       "Waiting for W&B process to finish... <strong style=\"color:green\">(success).</strong>"
      ],
      "text/plain": [
       "<IPython.core.display.HTML object>"
      ]
     },
     "metadata": {},
     "output_type": "display_data"
    },
    {
     "data": {
      "text/html": [
       "<style>\n",
       "    table.wandb td:nth-child(1) { padding: 0 10px; text-align: left ; width: auto;} td:nth-child(2) {text-align: left ; width: 100%}\n",
       "    .wandb-row { display: flex; flex-direction: row; flex-wrap: wrap; justify-content: flex-start; width: 100% }\n",
       "    .wandb-col { display: flex; flex-direction: column; flex-basis: 100%; flex: 1; padding: 10px; }\n",
       "    </style>\n",
       "<div class=\"wandb-row\"><div class=\"wandb-col\"><h3>Run history:</h3><br/><table class=\"wandb\"><tr><td>epoch</td><td>▁▁▁▁▂▂▂▂▂▃▃▃▃▃▃▄▄▄▄▄▅▅▅▅▅▅▆▆▆▆▆▆▇▇▇▇▇███</td></tr><tr><td>test_loss</td><td>▇█▆▅▃▃▂▂▂▁▁▁▁▁▁▁▁▁▁▁▁▁▁▁▁▁▁▁▁▁▁▁▁▁▁▁▁▁▁▁</td></tr><tr><td>train_loss</td><td>▇█▆▅▃▃▂▂▂▁▁▁▁▁▁▁▁▁▁▁▁▁▁▁▁▁▁▁▁▁▁▁▁▁▁▁▁▁▁▁</td></tr></table><br/></div><div class=\"wandb-col\"><h3>Run summary:</h3><br/><table class=\"wandb\"><tr><td>epoch</td><td>49</td></tr><tr><td>test_loss</td><td>0.24108</td></tr><tr><td>train_loss</td><td>0.24613</td></tr></table><br/></div></div>"
      ],
      "text/plain": [
       "<IPython.core.display.HTML object>"
      ]
     },
     "metadata": {},
     "output_type": "display_data"
    },
    {
     "data": {
      "text/html": [
       " View run <strong style=\"color:#cdcd00\">8hsSigmoidac0.5lr1nl</strong> at: <a href='https://wandb.ai/jpossaz/encoded_predict/runs/0nf2b4cx' target=\"_blank\">https://wandb.ai/jpossaz/encoded_predict/runs/0nf2b4cx</a><br/>Synced 4 W&B file(s), 0 media file(s), 0 artifact file(s) and 0 other file(s)"
      ],
      "text/plain": [
       "<IPython.core.display.HTML object>"
      ]
     },
     "metadata": {},
     "output_type": "display_data"
    },
    {
     "data": {
      "text/html": [
       "Find logs at: <code>./wandb/run-20230316_134750-0nf2b4cx/logs</code>"
      ],
      "text/plain": [
       "<IPython.core.display.HTML object>"
      ]
     },
     "metadata": {},
     "output_type": "display_data"
    }
   ],
   "source": [
    "inference_model = do_run(8, nn.Sigmoid, 0.5, 1)"
   ]
  },
  {
   "cell_type": "code",
   "execution_count": 7,
   "metadata": {},
   "outputs": [],
   "source": [
    "x_vals = []\n",
    "y_vals = []\n",
    "y_real = []\n",
    "\n",
    "# Run inference on the validation set\n",
    "for x_val, y_val in val_dataloader:\n",
    "    output = inference_model(x_val)\n",
    "    x_vals.append(x_val)\n",
    "    y_vals.append(output.argmax(dim=1))\n",
    "    y_real.append(y_val.argmax(dim=1))"
   ]
  },
  {
   "cell_type": "code",
   "execution_count": 8,
   "metadata": {},
   "outputs": [
    {
     "name": "stdout",
     "output_type": "stream",
     "text": [
      "Accuracy: 0.9045543847115556\n"
     ]
    }
   ],
   "source": [
    "# Compute accuracy\n",
    "correct = 0\n",
    "total = 0\n",
    "for i in range(len(y_vals)):\n",
    "    for j in range(len(y_vals[i])):\n",
    "        if y_vals[i][j] == y_real[i][j]:\n",
    "            correct += 1\n",
    "        total += 1\n",
    "\n",
    "print(f\"Accuracy: {correct/total}\")"
   ]
  },
  {
   "cell_type": "code",
   "execution_count": 9,
   "metadata": {},
   "outputs": [
    {
     "data": {
      "text/plain": [
       "''"
      ]
     },
     "execution_count": 9,
     "metadata": {},
     "output_type": "execute_result"
    }
   ],
   "source": [
    "input()"
   ]
  },
  {
   "cell_type": "code",
   "execution_count": 10,
   "metadata": {},
   "outputs": [
    {
     "data": {
      "image/png": "[encoded data removed]",
      "text/plain": [
       "<Figure size 300x700 with 2 Axes>"
      ]
     },
     "metadata": {},
     "output_type": "display_data"
    }
   ],
   "source": [
    "# Plot the x and y values, using the predicted y values as the color and icon\n",
    "import matplotlib.pyplot as plt\n",
    "import numpy as np\n",
    "\n",
    "# Create subplots\n",
    "fig, ax = plt.subplots(2, 1, figsize=(3, 7))\n",
    "\n",
    "feature_names = [\"Deposit\", \"Harvest\", \"Lock\", \"Unlock\", \"Withdraw\"]\n",
    "\n",
    "for i in range(len(np.unique(y_vals[0]))):\n",
    "    name = feature_names[i]\n",
    "    ax[0].scatter(x_vals[0][y_vals[0] == i,0], x_vals[0][y_vals[0] == i,1], s=2, label=name)\n",
    "\n",
    "ax[0].set_title(\"Predicted\")\n",
    "ax[0].legend()\n",
    "\n",
    "for i in range(len(np.unique(y_real[0]))):\n",
    "    name = feature_names[i]\n",
    "    ax[1].scatter(x_vals[0][y_real[0] == i,0], x_vals[0][y_real[0] == i,1], s=2, label=name)\n",
    "\n",
    "ax[1].set_title(\"Real\")\n",
    "ax[1].legend()\n",
    "\n",
    "plt.show()"
   ]
  }
 ],
 "metadata": {
  "kernelspec": {
   "display_name": "Python 3",
   "language": "python",
   "name": "python3"
  },
  "language_info": {
   "codemirror_mode": {
    "name": "ipython",
    "version": 3
   },
   "file_extension": ".py",
   "mimetype": "text/x-python",
   "name": "python",
   "nbconvert_exporter": "python",
   "pygments_lexer": "ipython3",
   "version": "3.10.9"
  },
  "orig_nbformat": 4,
  "vscode": {
   "interpreter": {
    "hash": "e7370f93d1d0cde622a1f8e1c04877d8463912d04d973331ad4851f04de6915a"
   }
  }
 },
 "nbformat": 4,
 "nbformat_minor": 2
}
